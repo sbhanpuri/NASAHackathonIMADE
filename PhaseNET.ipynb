{
  "cells": [
    {
      "cell_type": "markdown",
      "metadata": {
        "id": "view-in-github",
        "colab_type": "text"
      },
      "source": [
        "<a href=\"https://colab.research.google.com/github/sbhanpuri/NASAHackathonIMADE/blob/main/PhaseNET.ipynb\" target=\"_parent\"><img src=\"https://colab.research.google.com/assets/colab-badge.svg\" alt=\"Open In Colab\"/></a>"
      ]
    },
    {
      "cell_type": "markdown",
      "id": "b70993fd",
      "metadata": {
        "id": "b70993fd"
      },
      "source": [
        "# Example Jupyter notebook to work with the data"
      ]
    },
    {
      "cell_type": "markdown",
      "id": "13c05b6a",
      "metadata": {
        "id": "13c05b6a"
      },
      "source": [
        "# Read in and plot the Apollo 12 Grade A catalog"
      ]
    },
    {
      "cell_type": "code",
      "execution_count": 1,
      "id": "xZjsjdfT-EaZ",
      "metadata": {
        "colab": {
          "base_uri": "https://localhost:8080/"
        },
        "id": "xZjsjdfT-EaZ",
        "outputId": "a9f73f41-611c-4627-ef21-70d2a1510374"
      },
      "outputs": [
        {
          "output_type": "stream",
          "name": "stdout",
          "text": [
            "Requirement already satisfied: Obspy in /usr/local/lib/python3.10/dist-packages (1.4.1)\n",
            "Requirement already satisfied: numpy>=1.20 in /usr/local/lib/python3.10/dist-packages (from Obspy) (1.26.4)\n",
            "Requirement already satisfied: scipy>=1.7 in /usr/local/lib/python3.10/dist-packages (from Obspy) (1.13.1)\n",
            "Requirement already satisfied: matplotlib>=3.3 in /usr/local/lib/python3.10/dist-packages (from Obspy) (3.7.1)\n",
            "Requirement already satisfied: lxml in /usr/local/lib/python3.10/dist-packages (from Obspy) (4.9.4)\n",
            "Requirement already satisfied: setuptools in /usr/local/lib/python3.10/dist-packages (from Obspy) (71.0.4)\n",
            "Requirement already satisfied: sqlalchemy<2 in /usr/local/lib/python3.10/dist-packages (from Obspy) (1.4.54)\n",
            "Requirement already satisfied: decorator in /usr/local/lib/python3.10/dist-packages (from Obspy) (4.4.2)\n",
            "Requirement already satisfied: requests in /usr/local/lib/python3.10/dist-packages (from Obspy) (2.32.3)\n",
            "Requirement already satisfied: contourpy>=1.0.1 in /usr/local/lib/python3.10/dist-packages (from matplotlib>=3.3->Obspy) (1.3.0)\n",
            "Requirement already satisfied: cycler>=0.10 in /usr/local/lib/python3.10/dist-packages (from matplotlib>=3.3->Obspy) (0.12.1)\n",
            "Requirement already satisfied: fonttools>=4.22.0 in /usr/local/lib/python3.10/dist-packages (from matplotlib>=3.3->Obspy) (4.54.1)\n",
            "Requirement already satisfied: kiwisolver>=1.0.1 in /usr/local/lib/python3.10/dist-packages (from matplotlib>=3.3->Obspy) (1.4.7)\n",
            "Requirement already satisfied: packaging>=20.0 in /usr/local/lib/python3.10/dist-packages (from matplotlib>=3.3->Obspy) (24.1)\n",
            "Requirement already satisfied: pillow>=6.2.0 in /usr/local/lib/python3.10/dist-packages (from matplotlib>=3.3->Obspy) (10.4.0)\n",
            "Requirement already satisfied: pyparsing>=2.3.1 in /usr/local/lib/python3.10/dist-packages (from matplotlib>=3.3->Obspy) (3.1.4)\n",
            "Requirement already satisfied: python-dateutil>=2.7 in /usr/local/lib/python3.10/dist-packages (from matplotlib>=3.3->Obspy) (2.8.2)\n",
            "Requirement already satisfied: greenlet!=0.4.17 in /usr/local/lib/python3.10/dist-packages (from sqlalchemy<2->Obspy) (3.1.1)\n",
            "Requirement already satisfied: charset-normalizer<4,>=2 in /usr/local/lib/python3.10/dist-packages (from requests->Obspy) (3.3.2)\n",
            "Requirement already satisfied: idna<4,>=2.5 in /usr/local/lib/python3.10/dist-packages (from requests->Obspy) (3.10)\n",
            "Requirement already satisfied: urllib3<3,>=1.21.1 in /usr/local/lib/python3.10/dist-packages (from requests->Obspy) (2.2.3)\n",
            "Requirement already satisfied: certifi>=2017.4.17 in /usr/local/lib/python3.10/dist-packages (from requests->Obspy) (2024.8.30)\n",
            "Requirement already satisfied: six>=1.5 in /usr/local/lib/python3.10/dist-packages (from python-dateutil>=2.7->matplotlib>=3.3->Obspy) (1.16.0)\n"
          ]
        }
      ],
      "source": [
        "!pip install Obspy"
      ]
    },
    {
      "cell_type": "code",
      "execution_count": 2,
      "id": "5aed08ff-db7b-48f2-807a-b734b5656ebd",
      "metadata": {
        "id": "5aed08ff-db7b-48f2-807a-b734b5656ebd"
      },
      "outputs": [],
      "source": [
        "# Import libraries\n",
        "import numpy as np\n",
        "import pandas as pd\n",
        "from obspy import read\n",
        "from datetime import datetime, timedelta\n",
        "import matplotlib.pyplot as plt\n",
        "import os"
      ]
    },
    {
      "cell_type": "markdown",
      "id": "ad08d22d-bab8-4bcb-b317-f67c3a634a2c",
      "metadata": {
        "id": "ad08d22d-bab8-4bcb-b317-f67c3a634a2c"
      },
      "source": [
        "Let's take a look at the training data for the lunar dataset. In addition to the data itself, we include a catalog that will tell you which events happen when in the data. The catalog includes the name of the file, the absolute time, the relative time in seconds (relative to the start of the file), the event ID (evid), and the type of moonquake. The types of moonquakes include impacts, deep moonquakes, and shallow moonquakes. You do not have to worry about predicting the type of moonquakes, that's just fun information for you to know!\n",
        "\n",
        "**Note**: For your prediction, feel free to include either the absolute time or relative time, just make sure to mark it using the same header in the CSV file so we can easily score it!"
      ]
    },
    {
      "cell_type": "code",
      "execution_count": 3,
      "id": "XGx85V0z-OuW",
      "metadata": {
        "colab": {
          "base_uri": "https://localhost:8080/"
        },
        "id": "XGx85V0z-OuW",
        "outputId": "fe88add3-a395-4446-f029-afe85467947b"
      },
      "outputs": [
        {
          "output_type": "stream",
          "name": "stdout",
          "text": [
            "Mounted at /content/drive\n"
          ]
        }
      ],
      "source": [
        "from google.colab import drive\n",
        "drive.mount('/content/drive', force_remount = True)"
      ]
    },
    {
      "cell_type": "code",
      "execution_count": 4,
      "id": "4f7b59be",
      "metadata": {
        "colab": {
          "base_uri": "https://localhost:8080/",
          "height": 424
        },
        "id": "4f7b59be",
        "outputId": "5f2655a1-34b2-4370-f744-801f59d88f87"
      },
      "outputs": [
        {
          "output_type": "execute_result",
          "data": {
            "text/plain": [
              "                                  filename time_abs(%Y-%m-%dT%H:%M:%S.%f)  \\\n",
              "0   xa.s12.00.mhz.1970-01-19HR00_evid00002     1970-01-19T20:25:00.000000   \n",
              "1   xa.s12.00.mhz.1970-03-25HR00_evid00003     1970-03-25T03:32:00.000000   \n",
              "2   xa.s12.00.mhz.1970-03-26HR00_evid00004     1970-03-26T20:17:00.000000   \n",
              "3   xa.s12.00.mhz.1970-04-25HR00_evid00006     1970-04-25T01:14:00.000000   \n",
              "4   xa.s12.00.mhz.1970-04-26HR00_evid00007     1970-04-26T14:29:00.000000   \n",
              "..                                     ...                            ...   \n",
              "71  xa.s12.00.mhz.1974-10-14HR00_evid00156     1974-10-14T17:43:00.000000   \n",
              "72  xa.s12.00.mhz.1975-04-12HR00_evid00191     1975-04-12T18:15:00.000000   \n",
              "73  xa.s12.00.mhz.1975-05-04HR00_evid00192     1975-05-04T10:05:00.000000   \n",
              "74  xa.s12.00.mhz.1975-06-24HR00_evid00196     1975-06-24T16:03:00.000000   \n",
              "75  xa.s12.00.mhz.1975-06-26HR00_evid00198     1975-06-26T03:24:00.000000   \n",
              "\n",
              "    time_rel(sec)       evid    mq_type  \n",
              "0         73500.0  evid00002  impact_mq  \n",
              "1         12720.0  evid00003  impact_mq  \n",
              "2         73020.0  evid00004  impact_mq  \n",
              "3          4440.0  evid00006  impact_mq  \n",
              "4         52140.0  evid00007    deep_mq  \n",
              "..            ...        ...        ...  \n",
              "71        63780.0  evid00156  impact_mq  \n",
              "72        65700.0  evid00191  impact_mq  \n",
              "73        36300.0  evid00192  impact_mq  \n",
              "74        57780.0  evid00196  impact_mq  \n",
              "75        12240.0  evid00198  impact_mq  \n",
              "\n",
              "[76 rows x 5 columns]"
            ],
            "text/html": [
              "\n",
              "  <div id=\"df-870c786b-f728-4d50-91c1-bdade42733bb\" class=\"colab-df-container\">\n",
              "    <div>\n",
              "<style scoped>\n",
              "    .dataframe tbody tr th:only-of-type {\n",
              "        vertical-align: middle;\n",
              "    }\n",
              "\n",
              "    .dataframe tbody tr th {\n",
              "        vertical-align: top;\n",
              "    }\n",
              "\n",
              "    .dataframe thead th {\n",
              "        text-align: right;\n",
              "    }\n",
              "</style>\n",
              "<table border=\"1\" class=\"dataframe\">\n",
              "  <thead>\n",
              "    <tr style=\"text-align: right;\">\n",
              "      <th></th>\n",
              "      <th>filename</th>\n",
              "      <th>time_abs(%Y-%m-%dT%H:%M:%S.%f)</th>\n",
              "      <th>time_rel(sec)</th>\n",
              "      <th>evid</th>\n",
              "      <th>mq_type</th>\n",
              "    </tr>\n",
              "  </thead>\n",
              "  <tbody>\n",
              "    <tr>\n",
              "      <th>0</th>\n",
              "      <td>xa.s12.00.mhz.1970-01-19HR00_evid00002</td>\n",
              "      <td>1970-01-19T20:25:00.000000</td>\n",
              "      <td>73500.0</td>\n",
              "      <td>evid00002</td>\n",
              "      <td>impact_mq</td>\n",
              "    </tr>\n",
              "    <tr>\n",
              "      <th>1</th>\n",
              "      <td>xa.s12.00.mhz.1970-03-25HR00_evid00003</td>\n",
              "      <td>1970-03-25T03:32:00.000000</td>\n",
              "      <td>12720.0</td>\n",
              "      <td>evid00003</td>\n",
              "      <td>impact_mq</td>\n",
              "    </tr>\n",
              "    <tr>\n",
              "      <th>2</th>\n",
              "      <td>xa.s12.00.mhz.1970-03-26HR00_evid00004</td>\n",
              "      <td>1970-03-26T20:17:00.000000</td>\n",
              "      <td>73020.0</td>\n",
              "      <td>evid00004</td>\n",
              "      <td>impact_mq</td>\n",
              "    </tr>\n",
              "    <tr>\n",
              "      <th>3</th>\n",
              "      <td>xa.s12.00.mhz.1970-04-25HR00_evid00006</td>\n",
              "      <td>1970-04-25T01:14:00.000000</td>\n",
              "      <td>4440.0</td>\n",
              "      <td>evid00006</td>\n",
              "      <td>impact_mq</td>\n",
              "    </tr>\n",
              "    <tr>\n",
              "      <th>4</th>\n",
              "      <td>xa.s12.00.mhz.1970-04-26HR00_evid00007</td>\n",
              "      <td>1970-04-26T14:29:00.000000</td>\n",
              "      <td>52140.0</td>\n",
              "      <td>evid00007</td>\n",
              "      <td>deep_mq</td>\n",
              "    </tr>\n",
              "    <tr>\n",
              "      <th>...</th>\n",
              "      <td>...</td>\n",
              "      <td>...</td>\n",
              "      <td>...</td>\n",
              "      <td>...</td>\n",
              "      <td>...</td>\n",
              "    </tr>\n",
              "    <tr>\n",
              "      <th>71</th>\n",
              "      <td>xa.s12.00.mhz.1974-10-14HR00_evid00156</td>\n",
              "      <td>1974-10-14T17:43:00.000000</td>\n",
              "      <td>63780.0</td>\n",
              "      <td>evid00156</td>\n",
              "      <td>impact_mq</td>\n",
              "    </tr>\n",
              "    <tr>\n",
              "      <th>72</th>\n",
              "      <td>xa.s12.00.mhz.1975-04-12HR00_evid00191</td>\n",
              "      <td>1975-04-12T18:15:00.000000</td>\n",
              "      <td>65700.0</td>\n",
              "      <td>evid00191</td>\n",
              "      <td>impact_mq</td>\n",
              "    </tr>\n",
              "    <tr>\n",
              "      <th>73</th>\n",
              "      <td>xa.s12.00.mhz.1975-05-04HR00_evid00192</td>\n",
              "      <td>1975-05-04T10:05:00.000000</td>\n",
              "      <td>36300.0</td>\n",
              "      <td>evid00192</td>\n",
              "      <td>impact_mq</td>\n",
              "    </tr>\n",
              "    <tr>\n",
              "      <th>74</th>\n",
              "      <td>xa.s12.00.mhz.1975-06-24HR00_evid00196</td>\n",
              "      <td>1975-06-24T16:03:00.000000</td>\n",
              "      <td>57780.0</td>\n",
              "      <td>evid00196</td>\n",
              "      <td>impact_mq</td>\n",
              "    </tr>\n",
              "    <tr>\n",
              "      <th>75</th>\n",
              "      <td>xa.s12.00.mhz.1975-06-26HR00_evid00198</td>\n",
              "      <td>1975-06-26T03:24:00.000000</td>\n",
              "      <td>12240.0</td>\n",
              "      <td>evid00198</td>\n",
              "      <td>impact_mq</td>\n",
              "    </tr>\n",
              "  </tbody>\n",
              "</table>\n",
              "<p>76 rows × 5 columns</p>\n",
              "</div>\n",
              "    <div class=\"colab-df-buttons\">\n",
              "\n",
              "  <div class=\"colab-df-container\">\n",
              "    <button class=\"colab-df-convert\" onclick=\"convertToInteractive('df-870c786b-f728-4d50-91c1-bdade42733bb')\"\n",
              "            title=\"Convert this dataframe to an interactive table.\"\n",
              "            style=\"display:none;\">\n",
              "\n",
              "  <svg xmlns=\"http://www.w3.org/2000/svg\" height=\"24px\" viewBox=\"0 -960 960 960\">\n",
              "    <path d=\"M120-120v-720h720v720H120Zm60-500h600v-160H180v160Zm220 220h160v-160H400v160Zm0 220h160v-160H400v160ZM180-400h160v-160H180v160Zm440 0h160v-160H620v160ZM180-180h160v-160H180v160Zm440 0h160v-160H620v160Z\"/>\n",
              "  </svg>\n",
              "    </button>\n",
              "\n",
              "  <style>\n",
              "    .colab-df-container {\n",
              "      display:flex;\n",
              "      gap: 12px;\n",
              "    }\n",
              "\n",
              "    .colab-df-convert {\n",
              "      background-color: #E8F0FE;\n",
              "      border: none;\n",
              "      border-radius: 50%;\n",
              "      cursor: pointer;\n",
              "      display: none;\n",
              "      fill: #1967D2;\n",
              "      height: 32px;\n",
              "      padding: 0 0 0 0;\n",
              "      width: 32px;\n",
              "    }\n",
              "\n",
              "    .colab-df-convert:hover {\n",
              "      background-color: #E2EBFA;\n",
              "      box-shadow: 0px 1px 2px rgba(60, 64, 67, 0.3), 0px 1px 3px 1px rgba(60, 64, 67, 0.15);\n",
              "      fill: #174EA6;\n",
              "    }\n",
              "\n",
              "    .colab-df-buttons div {\n",
              "      margin-bottom: 4px;\n",
              "    }\n",
              "\n",
              "    [theme=dark] .colab-df-convert {\n",
              "      background-color: #3B4455;\n",
              "      fill: #D2E3FC;\n",
              "    }\n",
              "\n",
              "    [theme=dark] .colab-df-convert:hover {\n",
              "      background-color: #434B5C;\n",
              "      box-shadow: 0px 1px 3px 1px rgba(0, 0, 0, 0.15);\n",
              "      filter: drop-shadow(0px 1px 2px rgba(0, 0, 0, 0.3));\n",
              "      fill: #FFFFFF;\n",
              "    }\n",
              "  </style>\n",
              "\n",
              "    <script>\n",
              "      const buttonEl =\n",
              "        document.querySelector('#df-870c786b-f728-4d50-91c1-bdade42733bb button.colab-df-convert');\n",
              "      buttonEl.style.display =\n",
              "        google.colab.kernel.accessAllowed ? 'block' : 'none';\n",
              "\n",
              "      async function convertToInteractive(key) {\n",
              "        const element = document.querySelector('#df-870c786b-f728-4d50-91c1-bdade42733bb');\n",
              "        const dataTable =\n",
              "          await google.colab.kernel.invokeFunction('convertToInteractive',\n",
              "                                                    [key], {});\n",
              "        if (!dataTable) return;\n",
              "\n",
              "        const docLinkHtml = 'Like what you see? Visit the ' +\n",
              "          '<a target=\"_blank\" href=https://colab.research.google.com/notebooks/data_table.ipynb>data table notebook</a>'\n",
              "          + ' to learn more about interactive tables.';\n",
              "        element.innerHTML = '';\n",
              "        dataTable['output_type'] = 'display_data';\n",
              "        await google.colab.output.renderOutput(dataTable, element);\n",
              "        const docLink = document.createElement('div');\n",
              "        docLink.innerHTML = docLinkHtml;\n",
              "        element.appendChild(docLink);\n",
              "      }\n",
              "    </script>\n",
              "  </div>\n",
              "\n",
              "\n",
              "<div id=\"df-b10e1dc3-e282-4087-ac35-2f36db4062fe\">\n",
              "  <button class=\"colab-df-quickchart\" onclick=\"quickchart('df-b10e1dc3-e282-4087-ac35-2f36db4062fe')\"\n",
              "            title=\"Suggest charts\"\n",
              "            style=\"display:none;\">\n",
              "\n",
              "<svg xmlns=\"http://www.w3.org/2000/svg\" height=\"24px\"viewBox=\"0 0 24 24\"\n",
              "     width=\"24px\">\n",
              "    <g>\n",
              "        <path d=\"M19 3H5c-1.1 0-2 .9-2 2v14c0 1.1.9 2 2 2h14c1.1 0 2-.9 2-2V5c0-1.1-.9-2-2-2zM9 17H7v-7h2v7zm4 0h-2V7h2v10zm4 0h-2v-4h2v4z\"/>\n",
              "    </g>\n",
              "</svg>\n",
              "  </button>\n",
              "\n",
              "<style>\n",
              "  .colab-df-quickchart {\n",
              "      --bg-color: #E8F0FE;\n",
              "      --fill-color: #1967D2;\n",
              "      --hover-bg-color: #E2EBFA;\n",
              "      --hover-fill-color: #174EA6;\n",
              "      --disabled-fill-color: #AAA;\n",
              "      --disabled-bg-color: #DDD;\n",
              "  }\n",
              "\n",
              "  [theme=dark] .colab-df-quickchart {\n",
              "      --bg-color: #3B4455;\n",
              "      --fill-color: #D2E3FC;\n",
              "      --hover-bg-color: #434B5C;\n",
              "      --hover-fill-color: #FFFFFF;\n",
              "      --disabled-bg-color: #3B4455;\n",
              "      --disabled-fill-color: #666;\n",
              "  }\n",
              "\n",
              "  .colab-df-quickchart {\n",
              "    background-color: var(--bg-color);\n",
              "    border: none;\n",
              "    border-radius: 50%;\n",
              "    cursor: pointer;\n",
              "    display: none;\n",
              "    fill: var(--fill-color);\n",
              "    height: 32px;\n",
              "    padding: 0;\n",
              "    width: 32px;\n",
              "  }\n",
              "\n",
              "  .colab-df-quickchart:hover {\n",
              "    background-color: var(--hover-bg-color);\n",
              "    box-shadow: 0 1px 2px rgba(60, 64, 67, 0.3), 0 1px 3px 1px rgba(60, 64, 67, 0.15);\n",
              "    fill: var(--button-hover-fill-color);\n",
              "  }\n",
              "\n",
              "  .colab-df-quickchart-complete:disabled,\n",
              "  .colab-df-quickchart-complete:disabled:hover {\n",
              "    background-color: var(--disabled-bg-color);\n",
              "    fill: var(--disabled-fill-color);\n",
              "    box-shadow: none;\n",
              "  }\n",
              "\n",
              "  .colab-df-spinner {\n",
              "    border: 2px solid var(--fill-color);\n",
              "    border-color: transparent;\n",
              "    border-bottom-color: var(--fill-color);\n",
              "    animation:\n",
              "      spin 1s steps(1) infinite;\n",
              "  }\n",
              "\n",
              "  @keyframes spin {\n",
              "    0% {\n",
              "      border-color: transparent;\n",
              "      border-bottom-color: var(--fill-color);\n",
              "      border-left-color: var(--fill-color);\n",
              "    }\n",
              "    20% {\n",
              "      border-color: transparent;\n",
              "      border-left-color: var(--fill-color);\n",
              "      border-top-color: var(--fill-color);\n",
              "    }\n",
              "    30% {\n",
              "      border-color: transparent;\n",
              "      border-left-color: var(--fill-color);\n",
              "      border-top-color: var(--fill-color);\n",
              "      border-right-color: var(--fill-color);\n",
              "    }\n",
              "    40% {\n",
              "      border-color: transparent;\n",
              "      border-right-color: var(--fill-color);\n",
              "      border-top-color: var(--fill-color);\n",
              "    }\n",
              "    60% {\n",
              "      border-color: transparent;\n",
              "      border-right-color: var(--fill-color);\n",
              "    }\n",
              "    80% {\n",
              "      border-color: transparent;\n",
              "      border-right-color: var(--fill-color);\n",
              "      border-bottom-color: var(--fill-color);\n",
              "    }\n",
              "    90% {\n",
              "      border-color: transparent;\n",
              "      border-bottom-color: var(--fill-color);\n",
              "    }\n",
              "  }\n",
              "</style>\n",
              "\n",
              "  <script>\n",
              "    async function quickchart(key) {\n",
              "      const quickchartButtonEl =\n",
              "        document.querySelector('#' + key + ' button');\n",
              "      quickchartButtonEl.disabled = true;  // To prevent multiple clicks.\n",
              "      quickchartButtonEl.classList.add('colab-df-spinner');\n",
              "      try {\n",
              "        const charts = await google.colab.kernel.invokeFunction(\n",
              "            'suggestCharts', [key], {});\n",
              "      } catch (error) {\n",
              "        console.error('Error during call to suggestCharts:', error);\n",
              "      }\n",
              "      quickchartButtonEl.classList.remove('colab-df-spinner');\n",
              "      quickchartButtonEl.classList.add('colab-df-quickchart-complete');\n",
              "    }\n",
              "    (() => {\n",
              "      let quickchartButtonEl =\n",
              "        document.querySelector('#df-b10e1dc3-e282-4087-ac35-2f36db4062fe button');\n",
              "      quickchartButtonEl.style.display =\n",
              "        google.colab.kernel.accessAllowed ? 'block' : 'none';\n",
              "    })();\n",
              "  </script>\n",
              "</div>\n",
              "\n",
              "  <div id=\"id_85a1082c-dc08-4faf-bde8-074ff2e94178\">\n",
              "    <style>\n",
              "      .colab-df-generate {\n",
              "        background-color: #E8F0FE;\n",
              "        border: none;\n",
              "        border-radius: 50%;\n",
              "        cursor: pointer;\n",
              "        display: none;\n",
              "        fill: #1967D2;\n",
              "        height: 32px;\n",
              "        padding: 0 0 0 0;\n",
              "        width: 32px;\n",
              "      }\n",
              "\n",
              "      .colab-df-generate:hover {\n",
              "        background-color: #E2EBFA;\n",
              "        box-shadow: 0px 1px 2px rgba(60, 64, 67, 0.3), 0px 1px 3px 1px rgba(60, 64, 67, 0.15);\n",
              "        fill: #174EA6;\n",
              "      }\n",
              "\n",
              "      [theme=dark] .colab-df-generate {\n",
              "        background-color: #3B4455;\n",
              "        fill: #D2E3FC;\n",
              "      }\n",
              "\n",
              "      [theme=dark] .colab-df-generate:hover {\n",
              "        background-color: #434B5C;\n",
              "        box-shadow: 0px 1px 3px 1px rgba(0, 0, 0, 0.15);\n",
              "        filter: drop-shadow(0px 1px 2px rgba(0, 0, 0, 0.3));\n",
              "        fill: #FFFFFF;\n",
              "      }\n",
              "    </style>\n",
              "    <button class=\"colab-df-generate\" onclick=\"generateWithVariable('cat')\"\n",
              "            title=\"Generate code using this dataframe.\"\n",
              "            style=\"display:none;\">\n",
              "\n",
              "  <svg xmlns=\"http://www.w3.org/2000/svg\" height=\"24px\"viewBox=\"0 0 24 24\"\n",
              "       width=\"24px\">\n",
              "    <path d=\"M7,19H8.4L18.45,9,17,7.55,7,17.6ZM5,21V16.75L18.45,3.32a2,2,0,0,1,2.83,0l1.4,1.43a1.91,1.91,0,0,1,.58,1.4,1.91,1.91,0,0,1-.58,1.4L9.25,21ZM18.45,9,17,7.55Zm-12,3A5.31,5.31,0,0,0,4.9,8.1,5.31,5.31,0,0,0,1,6.5,5.31,5.31,0,0,0,4.9,4.9,5.31,5.31,0,0,0,6.5,1,5.31,5.31,0,0,0,8.1,4.9,5.31,5.31,0,0,0,12,6.5,5.46,5.46,0,0,0,6.5,12Z\"/>\n",
              "  </svg>\n",
              "    </button>\n",
              "    <script>\n",
              "      (() => {\n",
              "      const buttonEl =\n",
              "        document.querySelector('#id_85a1082c-dc08-4faf-bde8-074ff2e94178 button.colab-df-generate');\n",
              "      buttonEl.style.display =\n",
              "        google.colab.kernel.accessAllowed ? 'block' : 'none';\n",
              "\n",
              "      buttonEl.onclick = () => {\n",
              "        google.colab.notebook.generateWithVariable('cat');\n",
              "      }\n",
              "      })();\n",
              "    </script>\n",
              "  </div>\n",
              "\n",
              "    </div>\n",
              "  </div>\n"
            ],
            "application/vnd.google.colaboratory.intrinsic+json": {
              "type": "dataframe",
              "variable_name": "cat",
              "summary": "{\n  \"name\": \"cat\",\n  \"rows\": 76,\n  \"fields\": [\n    {\n      \"column\": \"filename\",\n      \"properties\": {\n        \"dtype\": \"string\",\n        \"num_unique_values\": 76,\n        \"samples\": [\n          \"xa.s12.00.mhz.1970-04-26HR00_evid00007\",\n          \"xa.s12.00.mhz.1972-06-16HR00_evid00060\",\n          \"xa.s12.00.mhz.1970-10-24HR00_evid00014\"\n        ],\n        \"semantic_type\": \"\",\n        \"description\": \"\"\n      }\n    },\n    {\n      \"column\": \"time_abs(%Y-%m-%dT%H:%M:%S.%f)\",\n      \"properties\": {\n        \"dtype\": \"object\",\n        \"num_unique_values\": 76,\n        \"samples\": [\n          \"1970-04-26T14:29:00.000000\",\n          \"1972-06-16T16:11:00.000000\",\n          \"1970-10-24T11:31:00.000000\"\n        ],\n        \"semantic_type\": \"\",\n        \"description\": \"\"\n      }\n    },\n    {\n      \"column\": \"time_rel(sec)\",\n      \"properties\": {\n        \"dtype\": \"number\",\n        \"std\": 25254.71008492642,\n        \"min\": 1380.0,\n        \"max\": 84660.0,\n        \"num_unique_values\": 71,\n        \"samples\": [\n          29100.0,\n          73500.0,\n          65700.0\n        ],\n        \"semantic_type\": \"\",\n        \"description\": \"\"\n      }\n    },\n    {\n      \"column\": \"evid\",\n      \"properties\": {\n        \"dtype\": \"string\",\n        \"num_unique_values\": 76,\n        \"samples\": [\n          \"evid00007\",\n          \"evid00060\",\n          \"evid00014\"\n        ],\n        \"semantic_type\": \"\",\n        \"description\": \"\"\n      }\n    },\n    {\n      \"column\": \"mq_type\",\n      \"properties\": {\n        \"dtype\": \"category\",\n        \"num_unique_values\": 3,\n        \"samples\": [\n          \"impact_mq\",\n          \"deep_mq\",\n          \"shallow_mq\"\n        ],\n        \"semantic_type\": \"\",\n        \"description\": \"\"\n      }\n    }\n  ]\n}"
            }
          },
          "metadata": {},
          "execution_count": 4
        }
      ],
      "source": [
        "cat_directory = '/content/drive/MyDrive/space_apps_2024_seismic_detection/data/lunar/training/catalogs/'\n",
        "cat_file = cat_directory + 'apollo12_catalog_GradeA_final.csv'\n",
        "cat = pd.read_csv(cat_file)\n",
        "cat"
      ]
    },
    {
      "cell_type": "markdown",
      "id": "49408b90",
      "metadata": {
        "id": "49408b90"
      },
      "source": [
        "## Select a detection"
      ]
    },
    {
      "cell_type": "markdown",
      "id": "7d1d115d-a75c-4d0b-a3e9-0ef66f2dc479",
      "metadata": {
        "id": "7d1d115d-a75c-4d0b-a3e9-0ef66f2dc479"
      },
      "source": [
        "Let's pick the first seismic event in the catalog and let's take a look at the absolute time data. The way we show it here is by using pandas `.iloc` and datetime `.strptime`. We are going to keep the format shown in the absolute time header, which is `'%Y-%m-%dT%H:%M:%S.%f'`"
      ]
    },
    {
      "cell_type": "code",
      "execution_count": 5,
      "id": "e23be5d6",
      "metadata": {
        "colab": {
          "base_uri": "https://localhost:8080/"
        },
        "id": "e23be5d6",
        "outputId": "04ab0a0a-1993-4770-ae91-9f40c6203a6e"
      },
      "outputs": [
        {
          "output_type": "execute_result",
          "data": {
            "text/plain": [
              "datetime.datetime(1970, 6, 26, 20, 1)"
            ]
          },
          "metadata": {},
          "execution_count": 5
        }
      ],
      "source": [
        "row = cat.iloc[6]\n",
        "arrival_time = datetime.strptime(row['time_abs(%Y-%m-%dT%H:%M:%S.%f)'],'%Y-%m-%dT%H:%M:%S.%f')\n",
        "arrival_time"
      ]
    },
    {
      "cell_type": "code",
      "execution_count": 6,
      "id": "81ba2b31-465d-4c50-95de-978b75de2878",
      "metadata": {
        "colab": {
          "base_uri": "https://localhost:8080/"
        },
        "id": "81ba2b31-465d-4c50-95de-978b75de2878",
        "outputId": "a1baafed-09a7-479b-c0d3-83b313e6ddc1"
      },
      "outputs": [
        {
          "output_type": "execute_result",
          "data": {
            "text/plain": [
              "72060.0"
            ]
          },
          "metadata": {},
          "execution_count": 6
        }
      ],
      "source": [
        "# If we want the value of relative time, we don't need to use datetime\n",
        "arrival_time_rel = row['time_rel(sec)']\n",
        "arrival_time_rel"
      ]
    },
    {
      "cell_type": "code",
      "execution_count": 7,
      "id": "01e9bf2a-c873-43b1-82dd-2d9109ae39b9",
      "metadata": {
        "colab": {
          "base_uri": "https://localhost:8080/",
          "height": 35
        },
        "id": "01e9bf2a-c873-43b1-82dd-2d9109ae39b9",
        "outputId": "bdbaa856-f68e-4da6-882f-76486ef2acaa"
      },
      "outputs": [
        {
          "output_type": "execute_result",
          "data": {
            "text/plain": [
              "'xa.s12.00.mhz.1970-06-26HR00_evid00009'"
            ],
            "application/vnd.google.colaboratory.intrinsic+json": {
              "type": "string"
            }
          },
          "metadata": {},
          "execution_count": 7
        }
      ],
      "source": [
        "# Let's also get the name of the file\n",
        "test_filename = row.filename\n",
        "test_filename"
      ]
    },
    {
      "cell_type": "markdown",
      "id": "e686ca29",
      "metadata": {
        "id": "e686ca29"
      },
      "source": [
        "## Read the CSV file corresponding to that detection"
      ]
    },
    {
      "cell_type": "markdown",
      "id": "a076b368-9982-4cad-ab53-06f462927aad",
      "metadata": {
        "id": "a076b368-9982-4cad-ab53-06f462927aad"
      },
      "source": [
        "We will now find the csv data file corresponding to that time and plot it!"
      ]
    },
    {
      "cell_type": "code",
      "execution_count": 8,
      "id": "7e033b67",
      "metadata": {
        "colab": {
          "base_uri": "https://localhost:8080/",
          "height": 424
        },
        "id": "7e033b67",
        "outputId": "9045ae7e-232d-4159-e4e1-67093b72a8e2"
      },
      "outputs": [
        {
          "output_type": "execute_result",
          "data": {
            "text/plain": [
              "       time_abs(%Y-%m-%dT%H:%M:%S.%f)  time_rel(sec)  velocity(m/s)\n",
              "0          1970-06-26T00:00:00.116000       0.000000  -6.727977e-16\n",
              "1          1970-06-26T00:00:00.266943       0.150943  -8.646711e-16\n",
              "2          1970-06-26T00:00:00.417887       0.301887  -9.298738e-16\n",
              "3          1970-06-26T00:00:00.568830       0.452830  -8.589095e-16\n",
              "4          1970-06-26T00:00:00.719774       0.603774  -7.139047e-16\n",
              "...                               ...            ...            ...\n",
              "572418     1970-06-27T00:00:02.832981   86402.716981   5.039820e-17\n",
              "572419     1970-06-27T00:00:02.983925   86402.867925  -9.191068e-18\n",
              "572420     1970-06-27T00:00:03.134868   86403.018868  -2.796955e-17\n",
              "572421     1970-06-27T00:00:03.285811   86403.169811  -9.037156e-17\n",
              "572422     1970-06-27T00:00:03.436755   86403.320755  -2.439395e-16\n",
              "\n",
              "[572423 rows x 3 columns]"
            ],
            "text/html": [
              "\n",
              "  <div id=\"df-03102180-e0da-4b4a-ad29-4c9785471ecb\" class=\"colab-df-container\">\n",
              "    <div>\n",
              "<style scoped>\n",
              "    .dataframe tbody tr th:only-of-type {\n",
              "        vertical-align: middle;\n",
              "    }\n",
              "\n",
              "    .dataframe tbody tr th {\n",
              "        vertical-align: top;\n",
              "    }\n",
              "\n",
              "    .dataframe thead th {\n",
              "        text-align: right;\n",
              "    }\n",
              "</style>\n",
              "<table border=\"1\" class=\"dataframe\">\n",
              "  <thead>\n",
              "    <tr style=\"text-align: right;\">\n",
              "      <th></th>\n",
              "      <th>time_abs(%Y-%m-%dT%H:%M:%S.%f)</th>\n",
              "      <th>time_rel(sec)</th>\n",
              "      <th>velocity(m/s)</th>\n",
              "    </tr>\n",
              "  </thead>\n",
              "  <tbody>\n",
              "    <tr>\n",
              "      <th>0</th>\n",
              "      <td>1970-06-26T00:00:00.116000</td>\n",
              "      <td>0.000000</td>\n",
              "      <td>-6.727977e-16</td>\n",
              "    </tr>\n",
              "    <tr>\n",
              "      <th>1</th>\n",
              "      <td>1970-06-26T00:00:00.266943</td>\n",
              "      <td>0.150943</td>\n",
              "      <td>-8.646711e-16</td>\n",
              "    </tr>\n",
              "    <tr>\n",
              "      <th>2</th>\n",
              "      <td>1970-06-26T00:00:00.417887</td>\n",
              "      <td>0.301887</td>\n",
              "      <td>-9.298738e-16</td>\n",
              "    </tr>\n",
              "    <tr>\n",
              "      <th>3</th>\n",
              "      <td>1970-06-26T00:00:00.568830</td>\n",
              "      <td>0.452830</td>\n",
              "      <td>-8.589095e-16</td>\n",
              "    </tr>\n",
              "    <tr>\n",
              "      <th>4</th>\n",
              "      <td>1970-06-26T00:00:00.719774</td>\n",
              "      <td>0.603774</td>\n",
              "      <td>-7.139047e-16</td>\n",
              "    </tr>\n",
              "    <tr>\n",
              "      <th>...</th>\n",
              "      <td>...</td>\n",
              "      <td>...</td>\n",
              "      <td>...</td>\n",
              "    </tr>\n",
              "    <tr>\n",
              "      <th>572418</th>\n",
              "      <td>1970-06-27T00:00:02.832981</td>\n",
              "      <td>86402.716981</td>\n",
              "      <td>5.039820e-17</td>\n",
              "    </tr>\n",
              "    <tr>\n",
              "      <th>572419</th>\n",
              "      <td>1970-06-27T00:00:02.983925</td>\n",
              "      <td>86402.867925</td>\n",
              "      <td>-9.191068e-18</td>\n",
              "    </tr>\n",
              "    <tr>\n",
              "      <th>572420</th>\n",
              "      <td>1970-06-27T00:00:03.134868</td>\n",
              "      <td>86403.018868</td>\n",
              "      <td>-2.796955e-17</td>\n",
              "    </tr>\n",
              "    <tr>\n",
              "      <th>572421</th>\n",
              "      <td>1970-06-27T00:00:03.285811</td>\n",
              "      <td>86403.169811</td>\n",
              "      <td>-9.037156e-17</td>\n",
              "    </tr>\n",
              "    <tr>\n",
              "      <th>572422</th>\n",
              "      <td>1970-06-27T00:00:03.436755</td>\n",
              "      <td>86403.320755</td>\n",
              "      <td>-2.439395e-16</td>\n",
              "    </tr>\n",
              "  </tbody>\n",
              "</table>\n",
              "<p>572423 rows × 3 columns</p>\n",
              "</div>\n",
              "    <div class=\"colab-df-buttons\">\n",
              "\n",
              "  <div class=\"colab-df-container\">\n",
              "    <button class=\"colab-df-convert\" onclick=\"convertToInteractive('df-03102180-e0da-4b4a-ad29-4c9785471ecb')\"\n",
              "            title=\"Convert this dataframe to an interactive table.\"\n",
              "            style=\"display:none;\">\n",
              "\n",
              "  <svg xmlns=\"http://www.w3.org/2000/svg\" height=\"24px\" viewBox=\"0 -960 960 960\">\n",
              "    <path d=\"M120-120v-720h720v720H120Zm60-500h600v-160H180v160Zm220 220h160v-160H400v160Zm0 220h160v-160H400v160ZM180-400h160v-160H180v160Zm440 0h160v-160H620v160ZM180-180h160v-160H180v160Zm440 0h160v-160H620v160Z\"/>\n",
              "  </svg>\n",
              "    </button>\n",
              "\n",
              "  <style>\n",
              "    .colab-df-container {\n",
              "      display:flex;\n",
              "      gap: 12px;\n",
              "    }\n",
              "\n",
              "    .colab-df-convert {\n",
              "      background-color: #E8F0FE;\n",
              "      border: none;\n",
              "      border-radius: 50%;\n",
              "      cursor: pointer;\n",
              "      display: none;\n",
              "      fill: #1967D2;\n",
              "      height: 32px;\n",
              "      padding: 0 0 0 0;\n",
              "      width: 32px;\n",
              "    }\n",
              "\n",
              "    .colab-df-convert:hover {\n",
              "      background-color: #E2EBFA;\n",
              "      box-shadow: 0px 1px 2px rgba(60, 64, 67, 0.3), 0px 1px 3px 1px rgba(60, 64, 67, 0.15);\n",
              "      fill: #174EA6;\n",
              "    }\n",
              "\n",
              "    .colab-df-buttons div {\n",
              "      margin-bottom: 4px;\n",
              "    }\n",
              "\n",
              "    [theme=dark] .colab-df-convert {\n",
              "      background-color: #3B4455;\n",
              "      fill: #D2E3FC;\n",
              "    }\n",
              "\n",
              "    [theme=dark] .colab-df-convert:hover {\n",
              "      background-color: #434B5C;\n",
              "      box-shadow: 0px 1px 3px 1px rgba(0, 0, 0, 0.15);\n",
              "      filter: drop-shadow(0px 1px 2px rgba(0, 0, 0, 0.3));\n",
              "      fill: #FFFFFF;\n",
              "    }\n",
              "  </style>\n",
              "\n",
              "    <script>\n",
              "      const buttonEl =\n",
              "        document.querySelector('#df-03102180-e0da-4b4a-ad29-4c9785471ecb button.colab-df-convert');\n",
              "      buttonEl.style.display =\n",
              "        google.colab.kernel.accessAllowed ? 'block' : 'none';\n",
              "\n",
              "      async function convertToInteractive(key) {\n",
              "        const element = document.querySelector('#df-03102180-e0da-4b4a-ad29-4c9785471ecb');\n",
              "        const dataTable =\n",
              "          await google.colab.kernel.invokeFunction('convertToInteractive',\n",
              "                                                    [key], {});\n",
              "        if (!dataTable) return;\n",
              "\n",
              "        const docLinkHtml = 'Like what you see? Visit the ' +\n",
              "          '<a target=\"_blank\" href=https://colab.research.google.com/notebooks/data_table.ipynb>data table notebook</a>'\n",
              "          + ' to learn more about interactive tables.';\n",
              "        element.innerHTML = '';\n",
              "        dataTable['output_type'] = 'display_data';\n",
              "        await google.colab.output.renderOutput(dataTable, element);\n",
              "        const docLink = document.createElement('div');\n",
              "        docLink.innerHTML = docLinkHtml;\n",
              "        element.appendChild(docLink);\n",
              "      }\n",
              "    </script>\n",
              "  </div>\n",
              "\n",
              "\n",
              "<div id=\"df-9976ae12-d72e-4c04-bdb9-c73d8cb4c68c\">\n",
              "  <button class=\"colab-df-quickchart\" onclick=\"quickchart('df-9976ae12-d72e-4c04-bdb9-c73d8cb4c68c')\"\n",
              "            title=\"Suggest charts\"\n",
              "            style=\"display:none;\">\n",
              "\n",
              "<svg xmlns=\"http://www.w3.org/2000/svg\" height=\"24px\"viewBox=\"0 0 24 24\"\n",
              "     width=\"24px\">\n",
              "    <g>\n",
              "        <path d=\"M19 3H5c-1.1 0-2 .9-2 2v14c0 1.1.9 2 2 2h14c1.1 0 2-.9 2-2V5c0-1.1-.9-2-2-2zM9 17H7v-7h2v7zm4 0h-2V7h2v10zm4 0h-2v-4h2v4z\"/>\n",
              "    </g>\n",
              "</svg>\n",
              "  </button>\n",
              "\n",
              "<style>\n",
              "  .colab-df-quickchart {\n",
              "      --bg-color: #E8F0FE;\n",
              "      --fill-color: #1967D2;\n",
              "      --hover-bg-color: #E2EBFA;\n",
              "      --hover-fill-color: #174EA6;\n",
              "      --disabled-fill-color: #AAA;\n",
              "      --disabled-bg-color: #DDD;\n",
              "  }\n",
              "\n",
              "  [theme=dark] .colab-df-quickchart {\n",
              "      --bg-color: #3B4455;\n",
              "      --fill-color: #D2E3FC;\n",
              "      --hover-bg-color: #434B5C;\n",
              "      --hover-fill-color: #FFFFFF;\n",
              "      --disabled-bg-color: #3B4455;\n",
              "      --disabled-fill-color: #666;\n",
              "  }\n",
              "\n",
              "  .colab-df-quickchart {\n",
              "    background-color: var(--bg-color);\n",
              "    border: none;\n",
              "    border-radius: 50%;\n",
              "    cursor: pointer;\n",
              "    display: none;\n",
              "    fill: var(--fill-color);\n",
              "    height: 32px;\n",
              "    padding: 0;\n",
              "    width: 32px;\n",
              "  }\n",
              "\n",
              "  .colab-df-quickchart:hover {\n",
              "    background-color: var(--hover-bg-color);\n",
              "    box-shadow: 0 1px 2px rgba(60, 64, 67, 0.3), 0 1px 3px 1px rgba(60, 64, 67, 0.15);\n",
              "    fill: var(--button-hover-fill-color);\n",
              "  }\n",
              "\n",
              "  .colab-df-quickchart-complete:disabled,\n",
              "  .colab-df-quickchart-complete:disabled:hover {\n",
              "    background-color: var(--disabled-bg-color);\n",
              "    fill: var(--disabled-fill-color);\n",
              "    box-shadow: none;\n",
              "  }\n",
              "\n",
              "  .colab-df-spinner {\n",
              "    border: 2px solid var(--fill-color);\n",
              "    border-color: transparent;\n",
              "    border-bottom-color: var(--fill-color);\n",
              "    animation:\n",
              "      spin 1s steps(1) infinite;\n",
              "  }\n",
              "\n",
              "  @keyframes spin {\n",
              "    0% {\n",
              "      border-color: transparent;\n",
              "      border-bottom-color: var(--fill-color);\n",
              "      border-left-color: var(--fill-color);\n",
              "    }\n",
              "    20% {\n",
              "      border-color: transparent;\n",
              "      border-left-color: var(--fill-color);\n",
              "      border-top-color: var(--fill-color);\n",
              "    }\n",
              "    30% {\n",
              "      border-color: transparent;\n",
              "      border-left-color: var(--fill-color);\n",
              "      border-top-color: var(--fill-color);\n",
              "      border-right-color: var(--fill-color);\n",
              "    }\n",
              "    40% {\n",
              "      border-color: transparent;\n",
              "      border-right-color: var(--fill-color);\n",
              "      border-top-color: var(--fill-color);\n",
              "    }\n",
              "    60% {\n",
              "      border-color: transparent;\n",
              "      border-right-color: var(--fill-color);\n",
              "    }\n",
              "    80% {\n",
              "      border-color: transparent;\n",
              "      border-right-color: var(--fill-color);\n",
              "      border-bottom-color: var(--fill-color);\n",
              "    }\n",
              "    90% {\n",
              "      border-color: transparent;\n",
              "      border-bottom-color: var(--fill-color);\n",
              "    }\n",
              "  }\n",
              "</style>\n",
              "\n",
              "  <script>\n",
              "    async function quickchart(key) {\n",
              "      const quickchartButtonEl =\n",
              "        document.querySelector('#' + key + ' button');\n",
              "      quickchartButtonEl.disabled = true;  // To prevent multiple clicks.\n",
              "      quickchartButtonEl.classList.add('colab-df-spinner');\n",
              "      try {\n",
              "        const charts = await google.colab.kernel.invokeFunction(\n",
              "            'suggestCharts', [key], {});\n",
              "      } catch (error) {\n",
              "        console.error('Error during call to suggestCharts:', error);\n",
              "      }\n",
              "      quickchartButtonEl.classList.remove('colab-df-spinner');\n",
              "      quickchartButtonEl.classList.add('colab-df-quickchart-complete');\n",
              "    }\n",
              "    (() => {\n",
              "      let quickchartButtonEl =\n",
              "        document.querySelector('#df-9976ae12-d72e-4c04-bdb9-c73d8cb4c68c button');\n",
              "      quickchartButtonEl.style.display =\n",
              "        google.colab.kernel.accessAllowed ? 'block' : 'none';\n",
              "    })();\n",
              "  </script>\n",
              "</div>\n",
              "\n",
              "  <div id=\"id_442f0e91-2d59-47da-8257-6058bc90f5c1\">\n",
              "    <style>\n",
              "      .colab-df-generate {\n",
              "        background-color: #E8F0FE;\n",
              "        border: none;\n",
              "        border-radius: 50%;\n",
              "        cursor: pointer;\n",
              "        display: none;\n",
              "        fill: #1967D2;\n",
              "        height: 32px;\n",
              "        padding: 0 0 0 0;\n",
              "        width: 32px;\n",
              "      }\n",
              "\n",
              "      .colab-df-generate:hover {\n",
              "        background-color: #E2EBFA;\n",
              "        box-shadow: 0px 1px 2px rgba(60, 64, 67, 0.3), 0px 1px 3px 1px rgba(60, 64, 67, 0.15);\n",
              "        fill: #174EA6;\n",
              "      }\n",
              "\n",
              "      [theme=dark] .colab-df-generate {\n",
              "        background-color: #3B4455;\n",
              "        fill: #D2E3FC;\n",
              "      }\n",
              "\n",
              "      [theme=dark] .colab-df-generate:hover {\n",
              "        background-color: #434B5C;\n",
              "        box-shadow: 0px 1px 3px 1px rgba(0, 0, 0, 0.15);\n",
              "        filter: drop-shadow(0px 1px 2px rgba(0, 0, 0, 0.3));\n",
              "        fill: #FFFFFF;\n",
              "      }\n",
              "    </style>\n",
              "    <button class=\"colab-df-generate\" onclick=\"generateWithVariable('data_cat')\"\n",
              "            title=\"Generate code using this dataframe.\"\n",
              "            style=\"display:none;\">\n",
              "\n",
              "  <svg xmlns=\"http://www.w3.org/2000/svg\" height=\"24px\"viewBox=\"0 0 24 24\"\n",
              "       width=\"24px\">\n",
              "    <path d=\"M7,19H8.4L18.45,9,17,7.55,7,17.6ZM5,21V16.75L18.45,3.32a2,2,0,0,1,2.83,0l1.4,1.43a1.91,1.91,0,0,1,.58,1.4,1.91,1.91,0,0,1-.58,1.4L9.25,21ZM18.45,9,17,7.55Zm-12,3A5.31,5.31,0,0,0,4.9,8.1,5.31,5.31,0,0,0,1,6.5,5.31,5.31,0,0,0,4.9,4.9,5.31,5.31,0,0,0,6.5,1,5.31,5.31,0,0,0,8.1,4.9,5.31,5.31,0,0,0,12,6.5,5.46,5.46,0,0,0,6.5,12Z\"/>\n",
              "  </svg>\n",
              "    </button>\n",
              "    <script>\n",
              "      (() => {\n",
              "      const buttonEl =\n",
              "        document.querySelector('#id_442f0e91-2d59-47da-8257-6058bc90f5c1 button.colab-df-generate');\n",
              "      buttonEl.style.display =\n",
              "        google.colab.kernel.accessAllowed ? 'block' : 'none';\n",
              "\n",
              "      buttonEl.onclick = () => {\n",
              "        google.colab.notebook.generateWithVariable('data_cat');\n",
              "      }\n",
              "      })();\n",
              "    </script>\n",
              "  </div>\n",
              "\n",
              "    </div>\n",
              "  </div>\n"
            ],
            "application/vnd.google.colaboratory.intrinsic+json": {
              "type": "dataframe",
              "variable_name": "data_cat"
            }
          },
          "metadata": {},
          "execution_count": 8
        }
      ],
      "source": [
        "data_directory = '/content/drive/MyDrive/space_apps_2024_seismic_detection/data/lunar/training/data/S12_GradeA'\n",
        "test_filename = 'xa.s12.00.mhz.1970-06-26HR00_evid00009.csv'\n",
        "csv_file = f'{data_directory}/{test_filename}'\n",
        "data_cat = pd.read_csv(csv_file)\n",
        "data_cat"
      ]
    },
    {
      "cell_type": "code",
      "execution_count": 9,
      "id": "465d3473",
      "metadata": {
        "colab": {
          "base_uri": "https://localhost:8080/",
          "height": 351
        },
        "id": "465d3473",
        "outputId": "5bbdb0a6-c832-49e2-89e3-be4b45a65007"
      },
      "outputs": [
        {
          "output_type": "execute_result",
          "data": {
            "text/plain": [
              "<matplotlib.legend.Legend at 0x7b8b9b486050>"
            ]
          },
          "metadata": {},
          "execution_count": 9
        },
        {
          "output_type": "display_data",
          "data": {
            "text/plain": [
              "<Figure size 1000x300 with 1 Axes>"
            ],
            "image/png": "[encoded data removed]"
          },
          "metadata": {}
        }
      ],
      "source": [
        "# Read in time steps and velocities\n",
        "csv_times = np.array(data_cat['time_rel(sec)'].tolist())\n",
        "csv_data = np.array(data_cat['velocity(m/s)'].tolist())\n",
        "\n",
        "# Plot the trace!\n",
        "fig,ax = plt.subplots(1,1,figsize=(10,3))\n",
        "ax.plot(csv_times,csv_data)\n",
        "\n",
        "# Make the plot pretty\n",
        "ax.set_xlim([min(csv_times),max(csv_times)])\n",
        "ax.set_ylabel('Velocity (m/s)')\n",
        "ax.set_xlabel('Time (s)')\n",
        "ax.set_title(f'{test_filename}', fontweight='bold')\n",
        "\n",
        "# Plot where the arrival time is\n",
        "arrival_line = ax.axvline(x=arrival_time_rel, c='red', label='Rel. Arrival')\n",
        "ax.legend(handles=[arrival_line])"
      ]
    },
    {
      "cell_type": "markdown",
      "id": "68b6174e-ced7-4cad-8c09-9b63890aa12b",
      "metadata": {
        "id": "68b6174e-ced7-4cad-8c09-9b63890aa12b"
      },
      "source": [
        "What if you wanted to plot in absolute time instead? The operations are very similar, just with a little extra datetime. It takes a bit longer, so we recommend working in relative time to start with!"
      ]
    },
    {
      "cell_type": "code",
      "execution_count": 10,
      "id": "80794f96-443e-43e9-8efa-3c86ee0101d2",
      "metadata": {
        "colab": {
          "base_uri": "https://localhost:8080/",
          "height": 351
        },
        "id": "80794f96-443e-43e9-8efa-3c86ee0101d2",
        "outputId": "dc0868e4-2021-4bc4-d476-2e753d3d90d3"
      },
      "outputs": [
        {
          "output_type": "execute_result",
          "data": {
            "text/plain": [
              "<matplotlib.legend.Legend at 0x7b8b9cf82800>"
            ]
          },
          "metadata": {},
          "execution_count": 10
        },
        {
          "output_type": "display_data",
          "data": {
            "text/plain": [
              "<Figure size 1000x300 with 1 Axes>"
            ],
            "image/png": "[encoded data removed]"
          },
          "metadata": {}
        }
      ],
      "source": [
        "# Read in time steps and velocities\n",
        "csv_times_dt = []\n",
        "for absval_str in data_cat['time_abs(%Y-%m-%dT%H:%M:%S.%f)'].values:\n",
        "    csv_times_dt.append(datetime.strptime(absval_str,'%Y-%m-%dT%H:%M:%S.%f'))\n",
        "\n",
        "csv_data = np.array(data_cat['velocity(m/s)'].tolist())\n",
        "\n",
        "# Plot the trace!\n",
        "fig,ax = plt.subplots(1,1,figsize=(10,3))\n",
        "ax.plot(csv_times_dt,csv_data)\n",
        "\n",
        "# Make the plot pretty\n",
        "ax.set_xlim((np.min(csv_times_dt),np.max(csv_times_dt)))\n",
        "ax.set_ylabel('Velocity (m/s)')\n",
        "ax.set_xlabel('Time (month-day hour)')\n",
        "ax.set_title(f'{test_filename}', fontweight='bold')\n",
        "\n",
        "# Plot where the arrival time is\n",
        "arrival_line = ax.axvline(x=arrival_time, c='red', label='Abs. Arrival')\n",
        "ax.legend(handles=[arrival_line])"
      ]
    },
    {
      "cell_type": "markdown",
      "id": "d4f32101",
      "metadata": {
        "id": "d4f32101"
      },
      "source": [
        "### Alternatively: read the miniseed file corresponding to that detection"
      ]
    },
    {
      "cell_type": "markdown",
      "id": "bab68f39-5709-417f-b1e4-b4bc550f5753",
      "metadata": {
        "id": "bab68f39-5709-417f-b1e4-b4bc550f5753"
      },
      "source": [
        "Same procedure as above, just using the miniseed file."
      ]
    },
    {
      "cell_type": "code",
      "execution_count": 11,
      "id": "5c25af2c",
      "metadata": {
        "colab": {
          "base_uri": "https://localhost:8080/"
        },
        "id": "5c25af2c",
        "outputId": "6847eead-5598-4417-ee3a-90e55e4ff9ec"
      },
      "outputs": [
        {
          "output_type": "execute_result",
          "data": {
            "text/plain": [
              "1 Trace(s) in Stream:\n",
              "XA.S12.00.MHZ | 1970-06-26T00:00:00.116000Z - 1970-06-27T00:00:03.436755Z | 6.6 Hz, 572423 samples"
            ]
          },
          "metadata": {},
          "execution_count": 11
        }
      ],
      "source": [
        "data_directory = '/content/drive/MyDrive/space_apps_2024_seismic_detection/data/lunar/training/data/S12_GradeA'\n",
        "test_filename = 'xa.s12.00.mhz.1970-06-26HR00_evid00009.mseed'\n",
        "mseed_file = f'{data_directory}/{test_filename}'\n",
        "st = read(mseed_file)\n",
        "st"
      ]
    },
    {
      "cell_type": "code",
      "execution_count": 12,
      "id": "1d2bf045-75bb-479a-abe1-48489190242a",
      "metadata": {
        "colab": {
          "base_uri": "https://localhost:8080/"
        },
        "id": "1d2bf045-75bb-479a-abe1-48489190242a",
        "outputId": "392554b1-d6cf-4df9-cf33-27a1d6cefddd"
      },
      "outputs": [
        {
          "output_type": "execute_result",
          "data": {
            "text/plain": [
              "         network: XA\n",
              "         station: S12\n",
              "        location: 00\n",
              "         channel: MHZ\n",
              "       starttime: 1970-06-26T00:00:00.116000Z\n",
              "         endtime: 1970-06-27T00:00:03.436755Z\n",
              "   sampling_rate: 6.625\n",
              "           delta: 0.1509433962264151\n",
              "            npts: 572423\n",
              "           calib: 1.0\n",
              "         _format: MSEED\n",
              "           mseed: AttribDict({'dataquality': 'D', 'number_of_records': 1136, 'encoding': 'FLOAT64', 'byteorder': '>', 'record_length': 4096, 'filesize': 4653056})"
            ]
          },
          "metadata": {},
          "execution_count": 12
        }
      ],
      "source": [
        "# The stream file also contains some useful header information\n",
        "st[0].stats"
      ]
    },
    {
      "cell_type": "code",
      "execution_count": 13,
      "id": "af3b24db",
      "metadata": {
        "colab": {
          "base_uri": "https://localhost:8080/"
        },
        "id": "af3b24db",
        "outputId": "a02408e2-1e65-4951-e7c9-5dc5c9af5e4d"
      },
      "outputs": [
        {
          "output_type": "execute_result",
          "data": {
            "text/plain": [
              "72059.884"
            ]
          },
          "metadata": {},
          "execution_count": 13
        }
      ],
      "source": [
        "# This is how you get the data and the time, which is in seconds\n",
        "tr = st.traces[0].copy()\n",
        "tr_times = tr.times()\n",
        "tr_data = tr.data\n",
        "\n",
        "# Start time of trace (another way to get the relative arrival time using datetime)\n",
        "starttime = tr.stats.starttime.datetime\n",
        "arrival = (arrival_time - starttime).total_seconds()\n",
        "arrival"
      ]
    },
    {
      "cell_type": "markdown",
      "id": "591e4fbe",
      "metadata": {
        "id": "591e4fbe"
      },
      "source": [
        "### Plot the trace and mark the arrival!"
      ]
    },
    {
      "cell_type": "markdown",
      "id": "4cb8314a-c791-41b7-be49-e46455c2ab22",
      "metadata": {
        "id": "4cb8314a-c791-41b7-be49-e46455c2ab22"
      },
      "source": [
        "Use a similar method to plot the miniseed data and seismic arrival."
      ]
    },
    {
      "cell_type": "code",
      "execution_count": 14,
      "id": "ebcd8eee",
      "metadata": {
        "colab": {
          "base_uri": "https://localhost:8080/",
          "height": 351
        },
        "id": "ebcd8eee",
        "outputId": "af3aff9e-4a83-4e53-bd55-20665e46b174",
        "scrolled": true
      },
      "outputs": [
        {
          "output_type": "execute_result",
          "data": {
            "text/plain": [
              "Text(0.5, 1.0, 'xa.s12.00.mhz.1970-06-26HR00_evid00009.mseed')"
            ]
          },
          "metadata": {},
          "execution_count": 14
        },
        {
          "output_type": "display_data",
          "data": {
            "text/plain": [
              "<Figure size 1000x300 with 1 Axes>"
            ],
            "image/png": "[encoded data removed]"
          },
          "metadata": {}
        }
      ],
      "source": [
        "# Initialize figure\n",
        "fig,ax = plt.subplots(1,1,figsize=(10,3))\n",
        "\n",
        "# Plot trace\n",
        "ax.plot(tr_times,tr_data)\n",
        "\n",
        "# Mark detection\n",
        "ax.axvline(x = arrival, color='red',label='Rel. Arrival')\n",
        "ax.legend(loc='upper left')\n",
        "\n",
        "# Make the plot pretty\n",
        "ax.set_xlim([min(tr_times),max(tr_times)])\n",
        "ax.set_ylabel('Velocity (m/s)')\n",
        "ax.set_xlabel('Time (s)')\n",
        "ax.set_title(f'{test_filename}', fontweight='bold')"
      ]
    },
    {
      "cell_type": "markdown",
      "id": "eaa6219e-dea6-4c3f-9d28-5859c69f4c2d",
      "metadata": {
        "id": "eaa6219e-dea6-4c3f-9d28-5859c69f4c2d"
      },
      "source": [
        "There are multiple ways that we can do the absolute time using datetime, here is a simple way using the `.timedelta` method"
      ]
    },
    {
      "cell_type": "code",
      "execution_count": 15,
      "id": "e28cb25b-5b3e-446a-8814-d84281eb1bb1",
      "metadata": {
        "colab": {
          "base_uri": "https://localhost:8080/",
          "height": 351
        },
        "id": "e28cb25b-5b3e-446a-8814-d84281eb1bb1",
        "outputId": "da8224bc-9384-4e0d-deb2-83a98ad65c35"
      },
      "outputs": [
        {
          "output_type": "execute_result",
          "data": {
            "text/plain": [
              "Text(0.5, 1.0, 'xa.s12.00.mhz.1970-06-26HR00_evid00009.mseed')"
            ]
          },
          "metadata": {},
          "execution_count": 15
        },
        {
          "output_type": "display_data",
          "data": {
            "text/plain": [
              "<Figure size 1000x300 with 1 Axes>"
            ],
            "image/png": "[encoded data removed]"
          },
          "metadata": {}
        }
      ],
      "source": [
        "# Create a vector for the absolute time\n",
        "tr_times_dt = []\n",
        "for tr_val in tr_times:\n",
        "    tr_times_dt.append(starttime + timedelta(seconds=tr_val))\n",
        "\n",
        "# Plot the absolute result\n",
        "fig,ax = plt.subplots(1,1,figsize=(10,3))\n",
        "\n",
        "# Plot trace\n",
        "ax.plot(tr_times_dt,tr_data)\n",
        "\n",
        "# Mark detection\n",
        "arrival_line = ax.axvline(x=arrival_time, c='red', label='Abs. Arrival')\n",
        "ax.legend(handles=[arrival_line])\n",
        "\n",
        "# Make the plot pretty\n",
        "ax.set_xlim([min(tr_times_dt),max(tr_times_dt)])\n",
        "ax.set_ylabel('Velocity (m/s)')\n",
        "ax.set_xlabel('Time (s)')\n",
        "ax.set_title(f'{test_filename}', fontweight='bold')\n"
      ]
    },
    {
      "cell_type": "markdown",
      "id": "44d28df9-ecd2-42df-b0be-ee3fd87fad2f",
      "metadata": {
        "id": "44d28df9-ecd2-42df-b0be-ee3fd87fad2f"
      },
      "source": [
        "It's completely up to you whether to work with the CSV file or the miniseed files. We recommend working with the miniseed file as it's a bit faster to run."
      ]
    },
    {
      "cell_type": "markdown",
      "id": "a970ebb9",
      "metadata": {
        "id": "a970ebb9"
      },
      "source": [
        "## Let's filter the trace"
      ]
    },
    {
      "cell_type": "markdown",
      "id": "14d28e0d-5255-4fa9-b0ba-9cd8dbbed342",
      "metadata": {
        "id": "14d28e0d-5255-4fa9-b0ba-9cd8dbbed342"
      },
      "source": [
        "Sometimes, it's useful to filter the trace to bring out particular frequencies. This will change the shape of the data and make it easier to see certain parts of the signal. In this example, we will filter the data using a bandpass filter between 0.01 Hz to 0.5 Hz."
      ]
    },
    {
      "cell_type": "code",
      "execution_count": 16,
      "id": "ed7e1526",
      "metadata": {
        "id": "ed7e1526"
      },
      "outputs": [],
      "source": [
        "# Set the minimum frequency\n",
        "minfreq = 0.5\n",
        "maxfreq = 1.0\n",
        "\n",
        "# Going to create a separate trace for the filter data\n",
        "st_filt = st.copy()\n",
        "st_filt.filter('bandpass',freqmin=minfreq,freqmax=maxfreq)\n",
        "tr_filt = st_filt.traces[0].copy()\n",
        "tr_times_filt = tr_filt.times()\n",
        "tr_data_filt = tr_filt.data"
      ]
    },
    {
      "cell_type": "code",
      "execution_count": 17,
      "id": "7d0fe643-11cf-4d3e-9022-041350458d89",
      "metadata": {
        "id": "7d0fe643-11cf-4d3e-9022-041350458d89"
      },
      "outputs": [],
      "source": [
        "# To better see the patterns, we will create a spectrogram using the scipy function\n",
        "# It requires the sampling rate, which we can get from the miniseed header as shown a few cells above\n",
        "from scipy import signal\n",
        "from matplotlib import cm\n",
        "f, t, sxx = signal.spectrogram(tr_data_filt, tr_filt.stats.sampling_rate)"
      ]
    },
    {
      "cell_type": "code",
      "execution_count": 18,
      "id": "32664fb0-d9e0-4e5a-bc01-7b9d32f0b36f",
      "metadata": {
        "colab": {
          "base_uri": "https://localhost:8080/",
          "height": 851
        },
        "id": "32664fb0-d9e0-4e5a-bc01-7b9d32f0b36f",
        "outputId": "4cbdb5b7-1d6c-4d12-f14c-ba0e94b9a2c1"
      },
      "outputs": [
        {
          "output_type": "display_data",
          "data": {
            "text/plain": [
              "<Figure size 1000x1000 with 3 Axes>"
            ],
            "image/png": "[encoded data removed]"
          },
          "metadata": {}
        }
      ],
      "source": [
        "# Plot the time series and spectrogram\n",
        "fig = plt.figure(figsize=(10, 10))\n",
        "ax = plt.subplot(2, 1, 1)\n",
        "# Plot trace\n",
        "ax.plot(tr_times_filt,tr_data_filt)\n",
        "\n",
        "# Mark detection\n",
        "ax.axvline(x = arrival, color='red',label='Detection')\n",
        "ax.legend(loc='upper left')\n",
        "\n",
        "# Make the plot pretty\n",
        "ax.set_xlim([min(tr_times_filt),max(tr_times_filt)])\n",
        "ax.set_ylabel('Velocity (m/s)')\n",
        "ax.set_xlabel('Time (s)')\n",
        "\n",
        "ax2 = plt.subplot(2, 1, 2)\n",
        "vals = ax2.pcolormesh(t, f, sxx, cmap=cm.jet, vmax=5e-17)\n",
        "ax2.set_xlim([min(tr_times_filt),max(tr_times_filt)])\n",
        "ax2.set_xlabel(f'Time (Day Hour:Minute)', fontweight='bold')\n",
        "ax2.set_ylabel('Frequency (Hz)', fontweight='bold')\n",
        "ax2.axvline(x=arrival, c='red')\n",
        "cbar = plt.colorbar(vals, orientation='horizontal')\n",
        "cbar.set_label('Power ((m/s)^2/sqrt(Hz))', fontweight='bold')"
      ]
    },
    {
      "cell_type": "markdown",
      "id": "b10d9ddf",
      "metadata": {
        "id": "b10d9ddf"
      },
      "source": [
        "# Sample short-term average / long-term average (STA/LTA) detection algorithm\n",
        "\n",
        "A STA/LTA algorithm moves two time windows of two lengths (one short, one long) across the seismic data. The algorithm calculates the average amplitude in both windows, and calculates the ratio between them. If the data contains an earthquake, then the short-term window containing the earthquake will be much larger than the long-term window -- resulting in a detection."
      ]
    },
    {
      "cell_type": "code",
      "execution_count": 19,
      "id": "094d0348",
      "metadata": {
        "colab": {
          "base_uri": "https://localhost:8080/",
          "height": 329
        },
        "id": "094d0348",
        "outputId": "5b01ed07-5d23-4ef3-8c72-8452d85c896a",
        "scrolled": true
      },
      "outputs": [
        {
          "output_type": "execute_result",
          "data": {
            "text/plain": [
              "Text(0, 0.5, 'Characteristic function')"
            ]
          },
          "metadata": {},
          "execution_count": 19
        },
        {
          "output_type": "display_data",
          "data": {
            "text/plain": [
              "<Figure size 1200x300 with 1 Axes>"
            ],
            "image/png": "[encoded data removed]"
          },
          "metadata": {}
        }
      ],
      "source": [
        "from obspy.signal.invsim import cosine_taper\n",
        "from obspy.signal.filter import highpass\n",
        "from obspy.signal.trigger import classic_sta_lta, plot_trigger, trigger_onset\n",
        "\n",
        "# Sampling frequency of our trace\n",
        "df = tr.stats.sampling_rate\n",
        "\n",
        "# How long should the short-term and long-term window be, in seconds?\n",
        "sta_len = 120\n",
        "lta_len = 600\n",
        "\n",
        "# Run Obspy's STA/LTA to obtain a characteristic function\n",
        "# This function basically calculates the ratio of amplitude between the short-term\n",
        "# and long-term windows, moving consecutively in time across the data\n",
        "cft = classic_sta_lta(tr_data, int(sta_len * df), int(lta_len * df))\n",
        "\n",
        "# Plot characteristic function\n",
        "fig,ax = plt.subplots(1,1,figsize=(12,3))\n",
        "ax.plot(tr_times,cft)\n",
        "ax.set_xlim([min(tr_times),max(tr_times)])\n",
        "ax.set_xlabel('Time (s)')\n",
        "ax.set_ylabel('Characteristic function')"
      ]
    },
    {
      "cell_type": "markdown",
      "id": "aa5e1992",
      "metadata": {
        "id": "aa5e1992"
      },
      "source": [
        "Next, we define the values of the characteristic function (i.e. amplitude ratio between short-term and long-term windows) where we flag a seismic detection. These values are called triggers. There are two types of triggers -- \"on\" and \"off\", defined as follows:\n",
        "\n",
        "1. \"on\" : If the characteristic function is above this value, then a seismic event begins.\n",
        "2. \"off\" : If the characteristic function falls below this value (after an \"on\" trigger), than a seismic event ends."
      ]
    },
    {
      "cell_type": "code",
      "execution_count": 20,
      "id": "315915f8",
      "metadata": {
        "colab": {
          "base_uri": "https://localhost:8080/",
          "height": 324
        },
        "id": "315915f8",
        "outputId": "0f064ccd-402a-40ed-9bb7-ebadcb8667ab"
      },
      "outputs": [
        {
          "output_type": "execute_result",
          "data": {
            "text/plain": [
              "<matplotlib.legend.Legend at 0x7b8b91cd7eb0>"
            ]
          },
          "metadata": {},
          "execution_count": 20
        },
        {
          "output_type": "display_data",
          "data": {
            "text/plain": [
              "<Figure size 1200x300 with 1 Axes>"
            ],
            "image/png": "[encoded data removed]"
          },
          "metadata": {}
        }
      ],
      "source": [
        "# Play around with the on and off triggers, based on values in the characteristic function\n",
        "thr_on = 4\n",
        "thr_off = 1.5\n",
        "on_off = np.array(trigger_onset(cft, thr_on, thr_off))\n",
        "# The first column contains the indices where the trigger is turned \"on\".\n",
        "# The second column contains the indices where the trigger is turned \"off\".\n",
        "\n",
        "# Plot on and off triggers\n",
        "fig,ax = plt.subplots(1,1,figsize=(12,3))\n",
        "for i in np.arange(0,len(on_off)):\n",
        "    triggers = on_off[i]\n",
        "    ax.axvline(x = tr_times[triggers[0]], color='red', label='Trig. On')\n",
        "    ax.axvline(x = tr_times[triggers[1]], color='purple', label='Trig. Off')\n",
        "\n",
        "# Plot seismogram\n",
        "ax.plot(tr_times,tr_data)\n",
        "ax.set_xlim([min(tr_times),max(tr_times)])\n",
        "ax.legend()"
      ]
    },
    {
      "cell_type": "markdown",
      "id": "776b281b-911b-424a-8c2d-8ad2e4834da4",
      "metadata": {
        "id": "776b281b-911b-424a-8c2d-8ad2e4834da4"
      },
      "source": [
        "**Note**: You do not have to worry about marking the end of the seismic trace (as you can see, even for us it's not very accurate!). For this challenge, all we care about is the start of the seismic waveform."
      ]
    },
    {
      "cell_type": "markdown",
      "id": "c9241cc8",
      "metadata": {
        "id": "c9241cc8"
      },
      "source": [
        "## Sample detection export into a catalog!\n",
        "There are many ways to do this, but we'll show a way to do it using pandas."
      ]
    },
    {
      "cell_type": "code",
      "execution_count": 21,
      "id": "490d0952",
      "metadata": {
        "colab": {
          "base_uri": "https://localhost:8080/",
          "height": 81
        },
        "id": "490d0952",
        "outputId": "de62a510-fce3-4982-a0cd-cba62ef21af7"
      },
      "outputs": [
        {
          "output_type": "execute_result",
          "data": {
            "text/plain": [
              "                                 filename time_abs(%Y-%m-%dT%H:%M:%S.%f)  \\\n",
              "0  xa.s12.00.mhz.1970-06-26HR00_evid00009     1970-06-26T20:03:21.323547   \n",
              "\n",
              "   time_rel(sec)  \n",
              "0   72201.207547  "
            ],
            "text/html": [
              "\n",
              "  <div id=\"df-d251abab-7b5a-4d88-9e77-95d3e57a3e5a\" class=\"colab-df-container\">\n",
              "    <div>\n",
              "<style scoped>\n",
              "    .dataframe tbody tr th:only-of-type {\n",
              "        vertical-align: middle;\n",
              "    }\n",
              "\n",
              "    .dataframe tbody tr th {\n",
              "        vertical-align: top;\n",
              "    }\n",
              "\n",
              "    .dataframe thead th {\n",
              "        text-align: right;\n",
              "    }\n",
              "</style>\n",
              "<table border=\"1\" class=\"dataframe\">\n",
              "  <thead>\n",
              "    <tr style=\"text-align: right;\">\n",
              "      <th></th>\n",
              "      <th>filename</th>\n",
              "      <th>time_abs(%Y-%m-%dT%H:%M:%S.%f)</th>\n",
              "      <th>time_rel(sec)</th>\n",
              "    </tr>\n",
              "  </thead>\n",
              "  <tbody>\n",
              "    <tr>\n",
              "      <th>0</th>\n",
              "      <td>xa.s12.00.mhz.1970-06-26HR00_evid00009</td>\n",
              "      <td>1970-06-26T20:03:21.323547</td>\n",
              "      <td>72201.207547</td>\n",
              "    </tr>\n",
              "  </tbody>\n",
              "</table>\n",
              "</div>\n",
              "    <div class=\"colab-df-buttons\">\n",
              "\n",
              "  <div class=\"colab-df-container\">\n",
              "    <button class=\"colab-df-convert\" onclick=\"convertToInteractive('df-d251abab-7b5a-4d88-9e77-95d3e57a3e5a')\"\n",
              "            title=\"Convert this dataframe to an interactive table.\"\n",
              "            style=\"display:none;\">\n",
              "\n",
              "  <svg xmlns=\"http://www.w3.org/2000/svg\" height=\"24px\" viewBox=\"0 -960 960 960\">\n",
              "    <path d=\"M120-120v-720h720v720H120Zm60-500h600v-160H180v160Zm220 220h160v-160H400v160Zm0 220h160v-160H400v160ZM180-400h160v-160H180v160Zm440 0h160v-160H620v160ZM180-180h160v-160H180v160Zm440 0h160v-160H620v160Z\"/>\n",
              "  </svg>\n",
              "    </button>\n",
              "\n",
              "  <style>\n",
              "    .colab-df-container {\n",
              "      display:flex;\n",
              "      gap: 12px;\n",
              "    }\n",
              "\n",
              "    .colab-df-convert {\n",
              "      background-color: #E8F0FE;\n",
              "      border: none;\n",
              "      border-radius: 50%;\n",
              "      cursor: pointer;\n",
              "      display: none;\n",
              "      fill: #1967D2;\n",
              "      height: 32px;\n",
              "      padding: 0 0 0 0;\n",
              "      width: 32px;\n",
              "    }\n",
              "\n",
              "    .colab-df-convert:hover {\n",
              "      background-color: #E2EBFA;\n",
              "      box-shadow: 0px 1px 2px rgba(60, 64, 67, 0.3), 0px 1px 3px 1px rgba(60, 64, 67, 0.15);\n",
              "      fill: #174EA6;\n",
              "    }\n",
              "\n",
              "    .colab-df-buttons div {\n",
              "      margin-bottom: 4px;\n",
              "    }\n",
              "\n",
              "    [theme=dark] .colab-df-convert {\n",
              "      background-color: #3B4455;\n",
              "      fill: #D2E3FC;\n",
              "    }\n",
              "\n",
              "    [theme=dark] .colab-df-convert:hover {\n",
              "      background-color: #434B5C;\n",
              "      box-shadow: 0px 1px 3px 1px rgba(0, 0, 0, 0.15);\n",
              "      filter: drop-shadow(0px 1px 2px rgba(0, 0, 0, 0.3));\n",
              "      fill: #FFFFFF;\n",
              "    }\n",
              "  </style>\n",
              "\n",
              "    <script>\n",
              "      const buttonEl =\n",
              "        document.querySelector('#df-d251abab-7b5a-4d88-9e77-95d3e57a3e5a button.colab-df-convert');\n",
              "      buttonEl.style.display =\n",
              "        google.colab.kernel.accessAllowed ? 'block' : 'none';\n",
              "\n",
              "      async function convertToInteractive(key) {\n",
              "        const element = document.querySelector('#df-d251abab-7b5a-4d88-9e77-95d3e57a3e5a');\n",
              "        const dataTable =\n",
              "          await google.colab.kernel.invokeFunction('convertToInteractive',\n",
              "                                                    [key], {});\n",
              "        if (!dataTable) return;\n",
              "\n",
              "        const docLinkHtml = 'Like what you see? Visit the ' +\n",
              "          '<a target=\"_blank\" href=https://colab.research.google.com/notebooks/data_table.ipynb>data table notebook</a>'\n",
              "          + ' to learn more about interactive tables.';\n",
              "        element.innerHTML = '';\n",
              "        dataTable['output_type'] = 'display_data';\n",
              "        await google.colab.output.renderOutput(dataTable, element);\n",
              "        const docLink = document.createElement('div');\n",
              "        docLink.innerHTML = docLinkHtml;\n",
              "        element.appendChild(docLink);\n",
              "      }\n",
              "    </script>\n",
              "  </div>\n",
              "\n",
              "\n",
              "    </div>\n",
              "  </div>\n"
            ],
            "application/vnd.google.colaboratory.intrinsic+json": {
              "type": "dataframe",
              "variable_name": "detect_df",
              "summary": "{\n  \"name\": \"detect_df\",\n  \"rows\": 1,\n  \"fields\": [\n    {\n      \"column\": \"filename\",\n      \"properties\": {\n        \"dtype\": \"string\",\n        \"num_unique_values\": 1,\n        \"samples\": [\n          \"xa.s12.00.mhz.1970-06-26HR00_evid00009\"\n        ],\n        \"semantic_type\": \"\",\n        \"description\": \"\"\n      }\n    },\n    {\n      \"column\": \"time_abs(%Y-%m-%dT%H:%M:%S.%f)\",\n      \"properties\": {\n        \"dtype\": \"object\",\n        \"num_unique_values\": 1,\n        \"samples\": [\n          \"1970-06-26T20:03:21.323547\"\n        ],\n        \"semantic_type\": \"\",\n        \"description\": \"\"\n      }\n    },\n    {\n      \"column\": \"time_rel(sec)\",\n      \"properties\": {\n        \"dtype\": \"number\",\n        \"std\": null,\n        \"min\": 72201.2075471698,\n        \"max\": 72201.2075471698,\n        \"num_unique_values\": 1,\n        \"samples\": [\n          72201.2075471698\n        ],\n        \"semantic_type\": \"\",\n        \"description\": \"\"\n      }\n    }\n  ]\n}"
            }
          },
          "metadata": {},
          "execution_count": 21
        }
      ],
      "source": [
        "# File name and start time of trace\n",
        "fname = row.filename\n",
        "starttime = tr.stats.starttime.datetime\n",
        "\n",
        "# Iterate through detection times and compile them\n",
        "detection_times = []\n",
        "fnames = []\n",
        "for i in np.arange(0,len(on_off)):\n",
        "    triggers = on_off[i]\n",
        "    on_time = starttime + timedelta(seconds = tr_times[triggers[0]])\n",
        "    on_time_str = datetime.strftime(on_time,'%Y-%m-%dT%H:%M:%S.%f')\n",
        "    detection_times.append(on_time_str)\n",
        "    fnames.append(fname)\n",
        "\n",
        "# Compile dataframe of detections\n",
        "detect_df = pd.DataFrame(data = {'filename':fnames, 'time_abs(%Y-%m-%dT%H:%M:%S.%f)':detection_times, 'time_rel(sec)':tr_times[triggers[0]]})\n",
        "detect_df.head()"
      ]
    },
    {
      "cell_type": "markdown",
      "id": "4b25a395-0a93-4804-8d88-0cd0a1d78681",
      "metadata": {
        "id": "4b25a395-0a93-4804-8d88-0cd0a1d78681"
      },
      "source": [
        "This can then be exported to a csv using:\n",
        "\n",
        "`detect_df.to_csv('output/path/catalog.csv', index=False)`"
      ]
    },
    {
      "cell_type": "markdown",
      "id": "38478a52-6e57-453b-9885-71d05679a841",
      "metadata": {
        "id": "38478a52-6e57-453b-9885-71d05679a841"
      },
      "source": [
        "# Download additional data from Earth-based stations"
      ]
    },
    {
      "cell_type": "markdown",
      "id": "a1cf964b-f01b-4317-bb9b-cc4150b24582",
      "metadata": {
        "id": "a1cf964b-f01b-4317-bb9b-cc4150b24582"
      },
      "source": [
        "You may find that you need to download additional data from Earth stations to supplement your models and algorithms. We recommend that you download any events from IRIS (Incorporated Research Institutations for Seismology).\n",
        "\n",
        "https://www.iris.edu/hq/\n",
        "\n",
        "**Note**: The organization has been recently renamed to SAGE (Seismological Facility for the Advancement of Geoscience), but all the previous links should still work.\n",
        "\n",
        "They maintain and curate data from seismic stations all around the world. There are many different ways to get data from them, but I recommend using the utility *PyWeed*:\n",
        "\n",
        "https://ds.iris.edu/ds/nodes/dmc/software/downloads/pyweed/\n",
        "\n",
        "We can use the utility to select seismic stations and the earthquake data (or **events**) recorded at those stations.\n",
        "\n",
        "<img src=\"https://raw.githubusercontent.com/civilinifr/fc_deeplearning/master/eq_detector_images/station_data_location.png\" alt=\"Drawing\" style=\"width: 1200px;\">\n",
        "\n",
        "For this test case, let's download all of the earthquakes magnitude 3 and above that are within 1 degree distance (approximately 110 km) from a site called PFO (Pinon Flat Observatory) in California. **Location** is a number designating the instrument at a particular site (sites may have multiple instruments), and **channel** is an IRIS code that specifies instrument information.\n",
        "\n",
        "In short, the first latter refers to the samplerate of the instrument (how many data points it records per second), the second to the type of instrument (certain types of seismometers are better at recording nearby earthquakes while others are more suited for distant earthquakes), and the last to the directional component being recored (most seismometers will record motion across two horizontal directions and the vertical). We will pick the channel HHZ, which refers to a (H) high-samplerate (100 samples per second) (H) strong-motion accelerometer (best resolution for nearby strong earthquakes) recording in the (Z) vertical direction. Once you've selected all the earthquakes, you can download the traces.\n",
        "\n",
        "An earthquake is composed of the following types of waves (in order): pressure (P-wave), shear (S-wave), and surface (Rayleigh and Love). For our challenge, we are only interested in identifying the start of the earthquake. The IRIS dataset contains P-wave arrivals (onset of the P-wave at the seismometer) for each earthquake. In order to get noise prior to the earthquake arrival, we pick our data traces to span 101 seconds before to 60 seconds past the P-wave arrival:\n",
        "\n",
        "\n",
        "<img src=\"https://raw.githubusercontent.com/civilinifr/fc_deeplearning/master/eq_detector_images/selected_seismograms.png\" alt=\"Drawing\" style=\"width: 1200px;\">\n",
        "\n",
        "\n",
        "As you can see from the output list, some of the earthquakes don't record any earthquake data (3.4 Ml 2005-08-31) and others have an incorrect P-wave arrival time (4.0 Ml 2005-08-31). Make sure to go through the earthquakes and remove those types of events from the waveform preview prior to download. For output file type, choose miniseed to match the planetary data (SAC is probably fine too, but the file sizes tend to be a bit bigger)."
      ]
    },
    {
      "cell_type": "markdown",
      "id": "13ead268-58bb-43b2-96db-b8236cc7af05",
      "metadata": {
        "id": "13ead268-58bb-43b2-96db-b8236cc7af05"
      },
      "source": [
        "## Thank you very much for being a part of this challenge! Good luck!!!"
      ]
    },
    {
      "cell_type": "code",
      "execution_count": 22,
      "id": "3rtRWH64Bw1t",
      "metadata": {
        "colab": {
          "base_uri": "https://localhost:8080/"
        },
        "id": "3rtRWH64Bw1t",
        "outputId": "499dcd98-c7ee-4e2c-9b40-eca43412f306"
      },
      "outputs": [
        {
          "output_type": "stream",
          "name": "stdout",
          "text": [
            "Cloning into 'phasenet'...\n",
            "remote: Enumerating objects: 1849, done.\u001b[K\n",
            "remote: Counting objects: 100% (377/377), done.\u001b[K\n",
            "remote: Compressing objects: 100% (179/179), done.\u001b[K\n",
            "remote: Total 1849 (delta 240), reused 321 (delta 193), pack-reused 1472 (from 1)\u001b[K\n",
            "Receiving objects: 100% (1849/1849), 45.94 MiB | 13.17 MiB/s, done.\n",
            "Resolving deltas: 100% (1117/1117), done.\n",
            "Collecting tensorflow==2.14.0 (from -r requirements.txt (line 1))\n",
            "  Downloading tensorflow-2.14.0-cp310-cp310-manylinux_2_17_x86_64.manylinux2014_x86_64.whl.metadata (4.1 kB)\n",
            "Requirement already satisfied: matplotlib in /usr/local/lib/python3.10/dist-packages (from -r requirements.txt (line 2)) (3.7.1)\n",
            "Requirement already satisfied: pandas in /usr/local/lib/python3.10/dist-packages (from -r requirements.txt (line 3)) (2.2.2)\n",
            "Requirement already satisfied: tqdm in /usr/local/lib/python3.10/dist-packages (from -r requirements.txt (line 4)) (4.66.5)\n",
            "Requirement already satisfied: scipy in /usr/local/lib/python3.10/dist-packages (from -r requirements.txt (line 5)) (1.13.1)\n",
            "Requirement already satisfied: obspy in /usr/local/lib/python3.10/dist-packages (from -r requirements.txt (line 6)) (1.4.1)\n",
            "Requirement already satisfied: absl-py>=1.0.0 in /usr/local/lib/python3.10/dist-packages (from tensorflow==2.14.0->-r requirements.txt (line 1)) (1.4.0)\n",
            "Requirement already satisfied: astunparse>=1.6.0 in /usr/local/lib/python3.10/dist-packages (from tensorflow==2.14.0->-r requirements.txt (line 1)) (1.6.3)\n",
            "Requirement already satisfied: flatbuffers>=23.5.26 in /usr/local/lib/python3.10/dist-packages (from tensorflow==2.14.0->-r requirements.txt (line 1)) (24.3.25)\n",
            "Requirement already satisfied: gast!=0.5.0,!=0.5.1,!=0.5.2,>=0.2.1 in /usr/local/lib/python3.10/dist-packages (from tensorflow==2.14.0->-r requirements.txt (line 1)) (0.6.0)\n",
            "Requirement already satisfied: google-pasta>=0.1.1 in /usr/local/lib/python3.10/dist-packages (from tensorflow==2.14.0->-r requirements.txt (line 1)) (0.2.0)\n",
            "Requirement already satisfied: h5py>=2.9.0 in /usr/local/lib/python3.10/dist-packages (from tensorflow==2.14.0->-r requirements.txt (line 1)) (3.11.0)\n",
            "Requirement already satisfied: libclang>=13.0.0 in /usr/local/lib/python3.10/dist-packages (from tensorflow==2.14.0->-r requirements.txt (line 1)) (18.1.1)\n",
            "Collecting ml-dtypes==0.2.0 (from tensorflow==2.14.0->-r requirements.txt (line 1))\n",
            "  Downloading ml_dtypes-0.2.0-cp310-cp310-manylinux_2_17_x86_64.manylinux2014_x86_64.whl.metadata (20 kB)\n",
            "Requirement already satisfied: numpy>=1.23.5 in /usr/local/lib/python3.10/dist-packages (from tensorflow==2.14.0->-r requirements.txt (line 1)) (1.26.4)\n",
            "Requirement already satisfied: opt-einsum>=2.3.2 in /usr/local/lib/python3.10/dist-packages (from tensorflow==2.14.0->-r requirements.txt (line 1)) (3.4.0)\n",
            "Requirement already satisfied: packaging in /usr/local/lib/python3.10/dist-packages (from tensorflow==2.14.0->-r requirements.txt (line 1)) (24.1)\n",
            "Requirement already satisfied: protobuf!=4.21.0,!=4.21.1,!=4.21.2,!=4.21.3,!=4.21.4,!=4.21.5,<5.0.0dev,>=3.20.3 in /usr/local/lib/python3.10/dist-packages (from tensorflow==2.14.0->-r requirements.txt (line 1)) (3.20.3)\n",
            "Requirement already satisfied: setuptools in /usr/local/lib/python3.10/dist-packages (from tensorflow==2.14.0->-r requirements.txt (line 1)) (71.0.4)\n",
            "Requirement already satisfied: six>=1.12.0 in /usr/local/lib/python3.10/dist-packages (from tensorflow==2.14.0->-r requirements.txt (line 1)) (1.16.0)\n",
            "Requirement already satisfied: termcolor>=1.1.0 in /usr/local/lib/python3.10/dist-packages (from tensorflow==2.14.0->-r requirements.txt (line 1)) (2.4.0)\n",
            "Requirement already satisfied: typing-extensions>=3.6.6 in /usr/local/lib/python3.10/dist-packages (from tensorflow==2.14.0->-r requirements.txt (line 1)) (4.12.2)\n",
            "Collecting wrapt<1.15,>=1.11.0 (from tensorflow==2.14.0->-r requirements.txt (line 1))\n",
            "  Downloading wrapt-1.14.1-cp310-cp310-manylinux_2_5_x86_64.manylinux1_x86_64.manylinux_2_17_x86_64.manylinux2014_x86_64.whl.metadata (6.7 kB)\n",
            "Requirement already satisfied: tensorflow-io-gcs-filesystem>=0.23.1 in /usr/local/lib/python3.10/dist-packages (from tensorflow==2.14.0->-r requirements.txt (line 1)) (0.37.1)\n",
            "Requirement already satisfied: grpcio<2.0,>=1.24.3 in /usr/local/lib/python3.10/dist-packages (from tensorflow==2.14.0->-r requirements.txt (line 1)) (1.64.1)\n",
            "Collecting tensorboard<2.15,>=2.14 (from tensorflow==2.14.0->-r requirements.txt (line 1))\n",
            "  Downloading tensorboard-2.14.1-py3-none-any.whl.metadata (1.7 kB)\n",
            "Collecting tensorflow-estimator<2.15,>=2.14.0 (from tensorflow==2.14.0->-r requirements.txt (line 1))\n",
            "  Downloading tensorflow_estimator-2.14.0-py2.py3-none-any.whl.metadata (1.3 kB)\n",
            "Collecting keras<2.15,>=2.14.0 (from tensorflow==2.14.0->-r requirements.txt (line 1))\n",
            "  Downloading keras-2.14.0-py3-none-any.whl.metadata (2.4 kB)\n",
            "Requirement already satisfied: contourpy>=1.0.1 in /usr/local/lib/python3.10/dist-packages (from matplotlib->-r requirements.txt (line 2)) (1.3.0)\n",
            "Requirement already satisfied: cycler>=0.10 in /usr/local/lib/python3.10/dist-packages (from matplotlib->-r requirements.txt (line 2)) (0.12.1)\n",
            "Requirement already satisfied: fonttools>=4.22.0 in /usr/local/lib/python3.10/dist-packages (from matplotlib->-r requirements.txt (line 2)) (4.54.1)\n",
            "Requirement already satisfied: kiwisolver>=1.0.1 in /usr/local/lib/python3.10/dist-packages (from matplotlib->-r requirements.txt (line 2)) (1.4.7)\n",
            "Requirement already satisfied: pillow>=6.2.0 in /usr/local/lib/python3.10/dist-packages (from matplotlib->-r requirements.txt (line 2)) (10.4.0)\n",
            "Requirement already satisfied: pyparsing>=2.3.1 in /usr/local/lib/python3.10/dist-packages (from matplotlib->-r requirements.txt (line 2)) (3.1.4)\n",
            "Requirement already satisfied: python-dateutil>=2.7 in /usr/local/lib/python3.10/dist-packages (from matplotlib->-r requirements.txt (line 2)) (2.8.2)\n",
            "Requirement already satisfied: pytz>=2020.1 in /usr/local/lib/python3.10/dist-packages (from pandas->-r requirements.txt (line 3)) (2024.2)\n",
            "Requirement already satisfied: tzdata>=2022.7 in /usr/local/lib/python3.10/dist-packages (from pandas->-r requirements.txt (line 3)) (2024.2)\n",
            "Requirement already satisfied: lxml in /usr/local/lib/python3.10/dist-packages (from obspy->-r requirements.txt (line 6)) (4.9.4)\n",
            "Requirement already satisfied: sqlalchemy<2 in /usr/local/lib/python3.10/dist-packages (from obspy->-r requirements.txt (line 6)) (1.4.54)\n",
            "Requirement already satisfied: decorator in /usr/local/lib/python3.10/dist-packages (from obspy->-r requirements.txt (line 6)) (4.4.2)\n",
            "Requirement already satisfied: requests in /usr/local/lib/python3.10/dist-packages (from obspy->-r requirements.txt (line 6)) (2.32.3)\n",
            "Requirement already satisfied: wheel<1.0,>=0.23.0 in /usr/local/lib/python3.10/dist-packages (from astunparse>=1.6.0->tensorflow==2.14.0->-r requirements.txt (line 1)) (0.44.0)\n",
            "Requirement already satisfied: greenlet!=0.4.17 in /usr/local/lib/python3.10/dist-packages (from sqlalchemy<2->obspy->-r requirements.txt (line 6)) (3.1.1)\n",
            "Requirement already satisfied: google-auth<3,>=1.6.3 in /usr/local/lib/python3.10/dist-packages (from tensorboard<2.15,>=2.14->tensorflow==2.14.0->-r requirements.txt (line 1)) (2.27.0)\n",
            "Collecting google-auth-oauthlib<1.1,>=0.5 (from tensorboard<2.15,>=2.14->tensorflow==2.14.0->-r requirements.txt (line 1))\n",
            "  Downloading google_auth_oauthlib-1.0.0-py2.py3-none-any.whl.metadata (2.7 kB)\n",
            "Requirement already satisfied: markdown>=2.6.8 in /usr/local/lib/python3.10/dist-packages (from tensorboard<2.15,>=2.14->tensorflow==2.14.0->-r requirements.txt (line 1)) (3.7)\n",
            "Requirement already satisfied: tensorboard-data-server<0.8.0,>=0.7.0 in /usr/local/lib/python3.10/dist-packages (from tensorboard<2.15,>=2.14->tensorflow==2.14.0->-r requirements.txt (line 1)) (0.7.2)\n",
            "Requirement already satisfied: werkzeug>=1.0.1 in /usr/local/lib/python3.10/dist-packages (from tensorboard<2.15,>=2.14->tensorflow==2.14.0->-r requirements.txt (line 1)) (3.0.4)\n",
            "Requirement already satisfied: charset-normalizer<4,>=2 in /usr/local/lib/python3.10/dist-packages (from requests->obspy->-r requirements.txt (line 6)) (3.3.2)\n",
            "Requirement already satisfied: idna<4,>=2.5 in /usr/local/lib/python3.10/dist-packages (from requests->obspy->-r requirements.txt (line 6)) (3.10)\n",
            "Requirement already satisfied: urllib3<3,>=1.21.1 in /usr/local/lib/python3.10/dist-packages (from requests->obspy->-r requirements.txt (line 6)) (2.2.3)\n",
            "Requirement already satisfied: certifi>=2017.4.17 in /usr/local/lib/python3.10/dist-packages (from requests->obspy->-r requirements.txt (line 6)) (2024.8.30)\n",
            "Requirement already satisfied: cachetools<6.0,>=2.0.0 in /usr/local/lib/python3.10/dist-packages (from google-auth<3,>=1.6.3->tensorboard<2.15,>=2.14->tensorflow==2.14.0->-r requirements.txt (line 1)) (5.5.0)\n",
            "Requirement already satisfied: pyasn1-modules>=0.2.1 in /usr/local/lib/python3.10/dist-packages (from google-auth<3,>=1.6.3->tensorboard<2.15,>=2.14->tensorflow==2.14.0->-r requirements.txt (line 1)) (0.4.1)\n",
            "Requirement already satisfied: rsa<5,>=3.1.4 in /usr/local/lib/python3.10/dist-packages (from google-auth<3,>=1.6.3->tensorboard<2.15,>=2.14->tensorflow==2.14.0->-r requirements.txt (line 1)) (4.9)\n",
            "Requirement already satisfied: requests-oauthlib>=0.7.0 in /usr/local/lib/python3.10/dist-packages (from google-auth-oauthlib<1.1,>=0.5->tensorboard<2.15,>=2.14->tensorflow==2.14.0->-r requirements.txt (line 1)) (1.3.1)\n",
            "Requirement already satisfied: MarkupSafe>=2.1.1 in /usr/local/lib/python3.10/dist-packages (from werkzeug>=1.0.1->tensorboard<2.15,>=2.14->tensorflow==2.14.0->-r requirements.txt (line 1)) (2.1.5)\n",
            "Requirement already satisfied: pyasn1<0.7.0,>=0.4.6 in /usr/local/lib/python3.10/dist-packages (from pyasn1-modules>=0.2.1->google-auth<3,>=1.6.3->tensorboard<2.15,>=2.14->tensorflow==2.14.0->-r requirements.txt (line 1)) (0.6.1)\n",
            "Requirement already satisfied: oauthlib>=3.0.0 in /usr/local/lib/python3.10/dist-packages (from requests-oauthlib>=0.7.0->google-auth-oauthlib<1.1,>=0.5->tensorboard<2.15,>=2.14->tensorflow==2.14.0->-r requirements.txt (line 1)) (3.2.2)\n",
            "Downloading tensorflow-2.14.0-cp310-cp310-manylinux_2_17_x86_64.manylinux2014_x86_64.whl (489.8 MB)\n",
            "\u001b[2K   \u001b[90m━━━━━━━━━━━━━━━━━━━━━━━━━━━━━━━━━━━━━━━━\u001b[0m \u001b[32m489.8/489.8 MB\u001b[0m \u001b[31m3.7 MB/s\u001b[0m eta \u001b[36m0:00:00\u001b[0m\n",
            "\u001b[?25hDownloading ml_dtypes-0.2.0-cp310-cp310-manylinux_2_17_x86_64.manylinux2014_x86_64.whl (1.0 MB)\n",
            "\u001b[2K   \u001b[90m━━━━━━━━━━━━━━━━━━━━━━━━━━━━━━━━━━━━━━━━\u001b[0m \u001b[32m1.0/1.0 MB\u001b[0m \u001b[31m38.0 MB/s\u001b[0m eta \u001b[36m0:00:00\u001b[0m\n",
            "\u001b[?25hDownloading keras-2.14.0-py3-none-any.whl (1.7 MB)\n",
            "\u001b[2K   \u001b[90m━━━━━━━━━━━━━━━━━━━━━━━━━━━━━━━━━━━━━━━━\u001b[0m \u001b[32m1.7/1.7 MB\u001b[0m \u001b[31m46.7 MB/s\u001b[0m eta \u001b[36m0:00:00\u001b[0m\n",
            "\u001b[?25hDownloading tensorboard-2.14.1-py3-none-any.whl (5.5 MB)\n",
            "\u001b[2K   \u001b[90m━━━━━━━━━━━━━━━━━━━━━━━━━━━━━━━━━━━━━━━━\u001b[0m \u001b[32m5.5/5.5 MB\u001b[0m \u001b[31m62.8 MB/s\u001b[0m eta \u001b[36m0:00:00\u001b[0m\n",
            "\u001b[?25hDownloading tensorflow_estimator-2.14.0-py2.py3-none-any.whl (440 kB)\n",
            "\u001b[2K   \u001b[90m━━━━━━━━━━━━━━━━━━━━━━━━━━━━━━━━━━━━━━━━\u001b[0m \u001b[32m440.7/440.7 kB\u001b[0m \u001b[31m25.1 MB/s\u001b[0m eta \u001b[36m0:00:00\u001b[0m\n",
            "\u001b[?25hDownloading wrapt-1.14.1-cp310-cp310-manylinux_2_5_x86_64.manylinux1_x86_64.manylinux_2_17_x86_64.manylinux2014_x86_64.whl (77 kB)\n",
            "\u001b[2K   \u001b[90m━━━━━━━━━━━━━━━━━━━━━━━━━━━━━━━━━━━━━━━━\u001b[0m \u001b[32m77.9/77.9 kB\u001b[0m \u001b[31m6.2 MB/s\u001b[0m eta \u001b[36m0:00:00\u001b[0m\n",
            "\u001b[?25hDownloading google_auth_oauthlib-1.0.0-py2.py3-none-any.whl (18 kB)\n",
            "Installing collected packages: wrapt, tensorflow-estimator, ml-dtypes, keras, google-auth-oauthlib, tensorboard, tensorflow\n",
            "  Attempting uninstall: wrapt\n",
            "    Found existing installation: wrapt 1.16.0\n",
            "    Uninstalling wrapt-1.16.0:\n",
            "      Successfully uninstalled wrapt-1.16.0\n",
            "  Attempting uninstall: ml-dtypes\n",
            "    Found existing installation: ml-dtypes 0.4.1\n",
            "    Uninstalling ml-dtypes-0.4.1:\n",
            "      Successfully uninstalled ml-dtypes-0.4.1\n",
            "  Attempting uninstall: keras\n",
            "    Found existing installation: keras 3.4.1\n",
            "    Uninstalling keras-3.4.1:\n",
            "      Successfully uninstalled keras-3.4.1\n",
            "  Attempting uninstall: google-auth-oauthlib\n",
            "    Found existing installation: google-auth-oauthlib 1.2.1\n",
            "    Uninstalling google-auth-oauthlib-1.2.1:\n",
            "      Successfully uninstalled google-auth-oauthlib-1.2.1\n",
            "  Attempting uninstall: tensorboard\n",
            "    Found existing installation: tensorboard 2.17.0\n",
            "    Uninstalling tensorboard-2.17.0:\n",
            "      Successfully uninstalled tensorboard-2.17.0\n",
            "  Attempting uninstall: tensorflow\n",
            "    Found existing installation: tensorflow 2.17.0\n",
            "    Uninstalling tensorflow-2.17.0:\n",
            "      Successfully uninstalled tensorflow-2.17.0\n",
            "\u001b[31mERROR: pip's dependency resolver does not currently take into account all the packages that are installed. This behaviour is the source of the following dependency conflicts.\n",
            "tensorstore 0.1.66 requires ml-dtypes>=0.3.1, but you have ml-dtypes 0.2.0 which is incompatible.\n",
            "tf-keras 2.17.0 requires tensorflow<2.18,>=2.17, but you have tensorflow 2.14.0 which is incompatible.\u001b[0m\u001b[31m\n",
            "\u001b[0mSuccessfully installed google-auth-oauthlib-1.0.0 keras-2.14.0 ml-dtypes-0.2.0 tensorboard-2.14.1 tensorflow-2.14.0 tensorflow-estimator-2.14.0 wrapt-1.14.1\n"
          ]
        }
      ],
      "source": [
        "!git clone https://github.com/wayneweiqiang/phasenet.git"
      ]
    },
    {
      "cell_type": "code",
      "execution_count": null,
      "id": "w0ThHeouApoW",
      "metadata": {
        "colab": {
          "background_save": true,
          "base_uri": "https://localhost:8080/"
        },
        "id": "w0ThHeouApoW",
        "outputId": "e6349f62-8c3b-4c3d-8895-76152fe97a90"
      },
      "outputs": [
        {
          "output_type": "stream",
          "name": "stderr",
          "text": [
            "/usr/local/lib/python3.10/dist-packages/torchvision/models/_utils.py:208: UserWarning: The parameter 'pretrained' is deprecated since 0.13 and may be removed in the future, please use 'weights' instead.\n",
            "  warnings.warn(\n",
            "/usr/local/lib/python3.10/dist-packages/torchvision/models/_utils.py:223: UserWarning: Arguments other than a weight enum or `None` for 'weights' are deprecated since 0.13 and may be removed in the future. The current behavior is equivalent to passing `weights=ResNet18_Weights.IMAGENET1K_V1`. You can also use `weights=ResNet18_Weights.DEFAULT` to get the most up-to-date weights.\n",
            "  warnings.warn(msg)\n",
            "Downloading: \"https://download.pytorch.org/models/resnet18-f37072fd.pth\" to /root/.cache/torch/hub/checkpoints/resnet18-f37072fd.pth\n",
            "100%|██████████| 44.7M/44.7M [00:01<00:00, 40.1MB/s]\n"
          ]
        }
      ],
      "source": [
        "import torch\n",
        "import torch.nn as nn\n",
        "from torch.utils.data import DataLoader, Dataset\n",
        "import numpy as np\n",
        "import pandas as pd\n",
        "import matplotlib.pyplot as plt\n",
        "from torchvision.models import resnet18\n",
        "\n",
        "class SeismicDataset(Dataset):\n",
        "  def __init__(self, data_path):\n",
        "    self.data = pd.read_csv(data_path)\n",
        "\n",
        "        # Convert 'Time' column to datetime and then to float\n",
        "    if 'Time' in self.data.columns:\n",
        "      self.data['Time'] = pd.to_datetime(self.data['Time'])\n",
        "      self.data['Time'] = (self.data['Time'] - self.data['Time'].min()).dt.total_seconds()\n",
        "\n",
        "        # Select only numeric columns\n",
        "      # Select only numeric columns\n",
        "    self.data = self.data.select_dtypes(include=[np.number])\n",
        "\n",
        "    # Convert all data to float32\n",
        "    self.data = self.data.astype(np.float32)\n",
        "\n",
        "  def __len__(self):\n",
        "    return len(self.data)\n",
        "\n",
        "  def __getitem__(self, idx):\n",
        "    return torch.from_numpy(self.data.iloc[idx].values.astype(np.float32)).float()\n",
        "\n",
        "\n",
        "class PhaseNet(nn.Module):\n",
        "    def __init__(self, input_size, hidden_size, num_classes):\n",
        "        super(PhaseNet, self).__init__()\n",
        "        # LSTM layer for time series processing\n",
        "        self.lstm = nn.LSTM(input_size, hidden_size, batch_first=True)\n",
        "\n",
        "        # Fully connected layer for classification\n",
        "        self.fc = nn.Linear(hidden_size, num_classes)\n",
        "\n",
        "    def forward(self, x):\n",
        "        # LSTM expects input: (batch_size, sequence_length, input_size)\n",
        "        lstm_out, (hn, cn) = self.lstm(x)\n",
        "        # Get the output from the last LSTM cell\n",
        "        last_hidden_state = lstm_out[:, -1, :]\n",
        "\n",
        "        # Fully connected layer for classification\n",
        "        out = self.fc(last_hidden_state)\n",
        "        return out\n",
        "\n",
        "\n",
        "class ResNet1D(nn.Module):\n",
        "    def __init__(self, num_classes, input_channels=1):\n",
        "        super(ResNet1D, self).__init__()\n",
        "        # Load pre-trained ResNet18 and modify for 1D input\n",
        "        self.resnet = resnet18(pretrained=True)\n",
        "\n",
        "        # Replace the first conv2d layer with a conv1d layer\n",
        "        self.resnet.conv1 = nn.Conv1d(\n",
        "            in_channels=input_channels,\n",
        "            out_channels=64,\n",
        "            kernel_size=7,\n",
        "            stride=2,\n",
        "            padding=3,\n",
        "            bias=False\n",
        "        )\n",
        "\n",
        "        # Replace the 2D BatchNorm with 1D BatchNorm\n",
        "        self.resnet.bn1 = nn.BatchNorm1d(64)\n",
        "\n",
        "        # Replace the maxpool layer with a 1D maxpool\n",
        "        self.resnet.maxpool = nn.MaxPool1d(kernel_size=3, stride=2, padding=1)\n",
        "\n",
        "        # Modify the fully connected layer to output num_classes\n",
        "        self.resnet.fc = nn.Linear(512, num_classes)  # Adjusted input size for fully connected layer\n",
        "\n",
        "        # Remove avgpool or adjust it to 1D if needed (for example, AdaptiveAvgPool1d)\n",
        "        self.resnet.avgpool = nn.AdaptiveAvgPool1d(1)\n",
        "\n",
        "        # Convert all Conv2d and BatchNorm2d into Conv1d and BatchNorm1d\n",
        "        for name, module in list(self.resnet.named_modules()):\n",
        "            if isinstance(module, nn.Conv2d):\n",
        "                in_channels = module.in_channels\n",
        "                out_channels = module.out_channels\n",
        "                kernel_size = module.kernel_size[0]\n",
        "                stride = module.stride[0]\n",
        "                padding = module.padding[0]\n",
        "                new_module = nn.Conv1d(in_channels, out_channels, kernel_size, stride, padding, bias=False)\n",
        "\n",
        "                parent_name, child_name = name.rsplit('.', 1)\n",
        "                parent_module = self.resnet\n",
        "                for part in parent_name.split('.'):\n",
        "                    parent_module = getattr(parent_module, part)\n",
        "                setattr(parent_module, child_name, new_module)\n",
        "\n",
        "            elif isinstance(module, nn.BatchNorm2d):\n",
        "                num_features = module.num_features\n",
        "                new_module = nn.BatchNorm1d(num_features)\n",
        "\n",
        "                parent_name, child_name = name.rsplit('.', 1)\n",
        "                parent_module = self.resnet\n",
        "                for part in parent_name.split('.'):\n",
        "                    parent_module = getattr(parent_module, part)\n",
        "                setattr(parent_module, child_name, new_module)\n",
        "\n",
        "    def forward(self, x):\n",
        "        # Forward pass through the modified ResNet layers\n",
        "        x = self.resnet.conv1(x)\n",
        "        x = self.resnet.bn1(x)\n",
        "        x = self.resnet.relu(x)\n",
        "        x = self.resnet.maxpool(x)\n",
        "        x = self.resnet.layer1(x)\n",
        "        x = self.resnet.layer2(x)\n",
        "        x = self.resnet.layer3(x)\n",
        "        x = self.resnet.layer4(x)\n",
        "        x = self.resnet.avgpool(x)\n",
        "\n",
        "        # Flatten the tensor and pass through the fully connected layer\n",
        "        x = x.view(x.size(0), -1)\n",
        "        x = self.resnet.fc(x)\n",
        "        return x\n",
        "\n",
        "\n",
        "# Training function to include accuracy tracking\n",
        "def train_model(phasenet_model, resnet1d_model, dataloader, num_epochs, learning_rate):\n",
        "    criterion = nn.CrossEntropyLoss()  # Loss function for classification\n",
        "    optimizer_resnet = torch.optim.Adam(resnet1d_model.parameters(), lr=learning_rate)\n",
        "    optimizer_phasenet = torch.optim.Adam(phasenet_model.parameters(), lr=learning_rate)\n",
        "\n",
        "    train_losses = []\n",
        "    phasenet_accuracies = []\n",
        "    resnet_accuracies = []\n",
        "\n",
        "    for epoch in range(num_epochs):\n",
        "        epoch_loss_resnet = 0\n",
        "        epoch_loss_phasenet = 0\n",
        "        correct_phasenet = 0\n",
        "        correct_resnet = 0\n",
        "        total_samples = 0\n",
        "\n",
        "        for batch in dataloader:\n",
        "            # Reshape the input for ResNet1D: [batch_size, 1, sequence_length]\n",
        "            ResNet1D_input = batch.unsqueeze(1)\n",
        "            # Reshape the input for PhaseNet: [batch_size, sequence_length, 1]\n",
        "            phasenet_input = batch.unsqueeze(2)\n",
        "\n",
        "            # Labels (Random labels for now; in real data, replace with actual labels)\n",
        "            labels = torch.randint(0, 2, (batch.shape[0],))\n",
        "\n",
        "            # Forward pass for ResNet1D\n",
        "            resnet_output = resnet1d_model(ResNet1D_input)\n",
        "            loss_resnet = criterion(resnet_output, labels)\n",
        "\n",
        "            # Forward pass for PhaseNet\n",
        "            phasenet_output = phasenet_model(phasenet_input)\n",
        "            loss_phasenet = criterion(phasenet_output, labels)\n",
        "\n",
        "            # Backward pass and optimization\n",
        "            optimizer_resnet.zero_grad()\n",
        "            loss_resnet.backward()\n",
        "            optimizer_resnet.step()\n",
        "\n",
        "            optimizer_phasenet.zero_grad()\n",
        "            loss_phasenet.backward()\n",
        "            optimizer_phasenet.step()\n",
        "\n",
        "            # Accumulate loss\n",
        "            epoch_loss_resnet += loss_resnet.item()\n",
        "            epoch_loss_phasenet += loss_phasenet.item()\n",
        "\n",
        "            # Accuracy calculation\n",
        "            _, predicted_phasenet = torch.max(phasenet_output, 1)\n",
        "            _, predicted_resnet = torch.max(resnet_output, 1)\n",
        "\n",
        "            correct_phasenet += (predicted_phasenet == labels).sum().item()\n",
        "            correct_resnet += (predicted_resnet == labels).sum().item()\n",
        "\n",
        "            total_samples += labels.size(0)\n",
        "\n",
        "        # Epoch-wise accuracy\n",
        "        accuracy_phasenet = 100 * correct_phasenet / total_samples\n",
        "        accuracy_resnet = 100 * correct_resnet / total_samples\n",
        "        phasenet_accuracies.append(accuracy_phasenet)\n",
        "        resnet_accuracies.append(accuracy_resnet)\n",
        "\n",
        "        train_losses.append((epoch_loss_resnet / len(dataloader), epoch_loss_phasenet / len(dataloader)))\n",
        "\n",
        "        print(f'Epoch [{epoch + 1}/{num_epochs}], '\n",
        "              f'Loss ResNet: {epoch_loss_resnet:.4f}, Loss PhaseNet: {epoch_loss_phasenet:.4f}, '\n",
        "              f'Accuracy ResNet: {accuracy_resnet:.2f}%, Accuracy PhaseNet: {accuracy_phasenet:.2f}%')\n",
        "\n",
        "    return train_losses, phasenet_accuracies, resnet_accuracies\n",
        "\n",
        "# Function to plot results\n",
        "def plot_results(losses, accuracies_phasenet, accuracies_resnet):\n",
        "    resnet_losses, phasenet_losses = zip(*losses)\n",
        "\n",
        "    plt.figure(figsize=(14, 7))\n",
        "\n",
        "    # Loss Plot\n",
        "    plt.subplot(1, 2, 1)\n",
        "    plt.plot(resnet_losses, label='ResNet Loss')\n",
        "    plt.plot(phasenet_losses, label='PhaseNet Loss')\n",
        "    plt.xlabel('Epochs')\n",
        "    plt.ylabel('Loss')\n",
        "    plt.title('Training Loss')\n",
        "    plt.legend()\n",
        "\n",
        "    # Accuracy Plot\n",
        "    plt.subplot(1, 2, 2)\n",
        "    plt.plot(accuracies_phasenet, label='PhaseNet Accuracy')\n",
        "    plt.plot(accuracies_resnet, label='ResNet Accuracy')\n",
        "    plt.xlabel('Epochs')\n",
        "    plt.ylabel('Accuracy (%)')\n",
        "    plt.title('Model Accuracy')\n",
        "    plt.legend()\n",
        "\n",
        "    plt.show()\n",
        "\n",
        "# Main function\n",
        "def main():\n",
        "    batch_size = 64\n",
        "    num_epochs = 50\n",
        "    learning_rate = 0.001\n",
        "\n",
        "    # Load seismic data\n",
        "    dataset = SeismicDataset('/content/drive/MyDrive/space_apps_2024_seismic_detection/data/lunar/training/data/S12_GradeA/xa.s12.00.mhz.1970-06-26HR00_evid00009.csv')\n",
        "    dataloader = DataLoader(dataset, batch_size=batch_size, shuffle=True)\n",
        "\n",
        "    # Initialize models\n",
        "    phasenet_model = PhaseNet(input_size=1, hidden_size=64, num_classes=2)\n",
        "    resnet1d_model = ResNet1D(num_classes=2, input_channels=1)\n",
        "\n",
        "    # Train models\n",
        "    losses, accuracies_phasenet, accuracies_resnet = train_model(phasenet_model, resnet1d_model, dataloader, num_epochs, learning_rate)\n",
        "\n",
        "    # Plot training results\n",
        "    plot_results(losses, accuracies_phasenet, accuracies_resnet)\n",
        "\n",
        "if __name__ == '__main__':\n",
        "    main()\n"
      ]
    },
    {
      "cell_type": "code",
      "execution_count": null,
      "id": "W9LO6_TuBKH0",
      "metadata": {
        "id": "W9LO6_TuBKH0"
      },
      "outputs": [],
      "source": []
    }
  ],
  "metadata": {
    "colab": {
      "provenance": [],
      "include_colab_link": true
    },
    "kernelspec": {
      "display_name": "Python 3 (ipykernel)",
      "language": "python",
      "name": "python3"
    },
    "language_info": {
      "codemirror_mode": {
        "name": "ipython",
        "version": 3
      },
      "file_extension": ".py",
      "mimetype": "text/x-python",
      "name": "python",
      "nbconvert_exporter": "python",
      "pygments_lexer": "ipython3",
      "version": "3.9.16"
    }
  },
  "nbformat": 4,
  "nbformat_minor": 5
}